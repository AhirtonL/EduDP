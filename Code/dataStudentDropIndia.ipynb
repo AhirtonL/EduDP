{
 "cells": [
  {
   "cell_type": "markdown",
   "metadata": {
    "anaconda-cloud": {},
    "kernelspec": {
     "display_name": "R",
     "language": "R",
     "name": "ir"
    },
    "language_info": {
     "codemirror_mode": "r",
     "file_extension": ".r",
     "mimetype": "text/x-r-source",
     "name": "R",
     "pygments_lexer": "r",
     "version": "3.2.2"
    }
   },
   "source": [
    "---\n",
    "title: \"Data Science Design Pattern for Student Drop Out\"\n",
    "author: \"Microsoft\"\n",
    "output: \n",
    "    rmarkdown::html_vignette:\n",
    "        toc: true\n",
    "\n",
    "vignette: >\n",
    "  %\\VignetteIndexEntry{Vignette Title}\n",
    "  %\\VignetteEngine{knitr::rmarkdown}\n",
    "  %\\VignetteEncoding{UTF-8}\n",
    "---"
   ]
  },
  {
   "cell_type": "code",
   "execution_count": 1,
   "metadata": {
    "attributes": {
     "classes": [],
     "echo": "FALSE",
     "id": ""
    },
    "collapsed": true
   },
   "outputs": [],
   "source": [
    "\n",
    "knitr::opts_chunk$set(fig.width = 6,\n",
    "                      fig.height = 4,\n",
    "                      fig.align='center',\n",
    "                      dev = \"png\")\n"
   ]
  },
  {
   "cell_type": "markdown",
   "metadata": {
    "anaconda-cloud": {},
    "kernelspec": {
     "display_name": "R",
     "language": "R",
     "name": "ir"
    },
    "language_info": {
     "codemirror_mode": "r",
     "file_extension": ".r",
     "mimetype": "text/x-r-source",
     "name": "R",
     "pygments_lexer": "r",
     "version": "3.2.2"
    }
   },
   "source": [
    "# Introduction\n",
    "\n",
    "Welcome to the Data Science Design Pattern for Student Drop Out. This pattern provides a starting point for the data scientist exploring a new dataset. By no means is it the end point of the data science journey. The pattern is under regular revision and improvement and is provided as is.\n",
    "\n",
    "We now begin with the task of preparing our data for building models using R. \n",
    "\n",
    "# Pre-configuration\n",
    "\n",
    "We load the R packages required for data preparation."
   ]
  },
  {
   "cell_type": "code",
   "execution_count": 2,
   "metadata": {
    "attributes": {
     "classes": [],
     "error": "FALSE",
     "id": "",
     "message": "FALSE,",
     "warning": "FALSE,"
    },
    "collapsed": false
   },
   "outputs": [
    {
     "name": "stderr",
     "output_type": "stream",
     "text": [
      "Rattle: A free graphical interface for data mining with R.\n",
      "Version 4.1.0 Copyright (c) 2006-2015 Togaware Pty Ltd.\n",
      "Type 'rattle()' to shake, rattle, and roll your data.\n",
      "\n",
      "Attaching package: 'dplyr'\n",
      "\n",
      "The following objects are masked from 'package:stats':\n",
      "\n",
      "    filter, lag\n",
      "\n",
      "The following objects are masked from 'package:base':\n",
      "\n",
      "    intersect, setdiff, setequal, union\n",
      "\n",
      "\n",
      "Attaching package: 'lubridate'\n",
      "\n",
      "The following object is masked from 'package:base':\n",
      "\n",
      "    date\n",
      "\n",
      "\n",
      "Attaching package: 'tidyr'\n",
      "\n",
      "The following object is masked from 'package:magrittr':\n",
      "\n",
      "    extract\n",
      "\n",
      "randomForest 4.6-12\n",
      "Type rfNews() to see new features/changes/bug fixes.\n",
      "\n",
      "Attaching package: 'randomForest'\n",
      "\n",
      "The following object is masked from 'package:dplyr':\n",
      "\n",
      "    combine\n",
      "\n",
      "\n",
      "Attaching package: 'ggplot2'\n",
      "\n",
      "The following object is masked from 'package:randomForest':\n",
      "\n",
      "    margin\n",
      "\n"
     ]
    }
   ],
   "source": [
    "########################################################################\n",
    "# R SETUP\n",
    "# Load required packages from local library into R.\n",
    "\n",
    "library(rattle)       # The normVarNames().\n",
    "library(readr)        # Modern and efficient data reader.\n",
    "library(dplyr)        # Wrangling: tbl_df(), group_by(), print(), glimpse().\n",
    "library(magrittr)     # Pipe operator %>% %<>% %T>% equals().\n",
    "library(lubridate)    # Dates and time.\n",
    "library(tidyr)        # Tidy the dataset: gather().\n",
    "library(stringi)      # String concat operator %s+%.\n",
    "library(stringr)      # String manipulation: str_replace().\n",
    "library(randomForest) # Impute missing values with na.roughfix()\n",
    "library(ggplot2)      # Visualise data.\n",
    "library(tibble)       # Table data frame: rownames_to_column()"
   ]
  },
  {
   "cell_type": "markdown",
   "metadata": {
    "anaconda-cloud": {},
    "kernelspec": {
     "display_name": "R",
     "language": "R",
     "name": "ir"
    },
    "language_info": {
     "codemirror_mode": "r",
     "file_extension": ".r",
     "mimetype": "text/x-r-source",
     "name": "R",
     "pygments_lexer": "r",
     "version": "3.2.2"
    }
   },
   "source": [
    "Let's define some utility functions which simplify the coding."
   ]
  },
  {
   "cell_type": "code",
   "execution_count": 3,
   "metadata": {
    "attributes": {
     "classes": [],
     "error": "FALSE",
     "id": "",
     "message": "FALSE,",
     "warning": "FALSE,"
    },
    "collapsed": true
   },
   "outputs": [],
   "source": [
    "# Useful utility functions.\n",
    "\n",
    "echo <- function(x, big.mark=\",\", ...)\n",
    "{\n",
    "  format(x, big.mark=big.mark, ...) %>% cat(\"\\n\")\n",
    "}"
   ]
  },
  {
   "cell_type": "markdown",
   "metadata": {
    "anaconda-cloud": {},
    "kernelspec": {
     "display_name": "R",
     "language": "R",
     "name": "ir"
    },
    "language_info": {
     "codemirror_mode": "r",
     "file_extension": ".r",
     "mimetype": "text/x-r-source",
     "name": "R",
     "pygments_lexer": "r",
     "version": "3.2.2"
    }
   },
   "source": [
    "# Step 1.1: Load - Dataset\n",
    "\n",
    "We use the studentDropIndia dataset simulated from student data in UCI repository and an India State Government to illustrate our data preparation. Often though we will be loading the dataset from a CSV file and so we illustrate that step first. We begin by identifying the path to the CSV file we wish to load - in this case we load it from a local directory. Then it is a simple matter of reading the data into the memory of the computer, referring to it as variable studentDropIndia."
   ]
  },
  {
   "cell_type": "code",
   "execution_count": 4,
   "metadata": {
    "attributes": {
     "classes": [],
     "error": "FALSE",
     "id": "",
     "message": "FALSE,",
     "warning": "FALSE,"
    },
    "collapsed": false
   },
   "outputs": [
    {
     "name": "stderr",
     "output_type": "stream",
     "text": [
      "Parsed with column specification:\n",
      "cols(\n",
      "  continue_drop = col_character(),\n",
      "  student_id = col_character(),\n",
      "  gender = col_character(),\n",
      "  caste = col_character(),\n",
      "  mathematics_marks = col_double(),\n",
      "  english_marks = col_double(),\n",
      "  science_marks = col_double(),\n",
      "  science_teacher = col_integer(),\n",
      "  languages_teacher = col_integer(),\n",
      "  guardian = col_character(),\n",
      "  internet = col_logical(),\n",
      "  school_id = col_character(),\n",
      "  total_students = col_integer(),\n",
      "  total_toilets = col_integer(),\n",
      "  establishment_year = col_integer()\n",
      ")\n"
     ]
    }
   ],
   "source": [
    "########################################################################\n",
    "# DATA INGESTION\n",
    "\n",
    "# Identify the source location of the dataset.\n",
    "\n",
    "dspath <- \"/../../Data/studentDropIndia_20161215.csv\"\n",
    "\n",
    "# Ingest the dataset.\n",
    "\n",
    "studentDropIndia <- read_csv(file=dspath)\n",
    "\n",
    "# Name the dataset.\n",
    "\n",
    "dsname <- \"studentDropIndia\""
   ]
  },
  {
   "cell_type": "markdown",
   "metadata": {
    "anaconda-cloud": {},
    "kernelspec": {
     "display_name": "R",
     "language": "R",
     "name": "ir"
    },
    "language_info": {
     "codemirror_mode": "r",
     "file_extension": ".r",
     "mimetype": "text/x-r-source",
     "name": "R",
     "pygments_lexer": "r",
     "version": "3.2.2"
    }
   },
   "source": [
    "# Step 1.2: Load - Generic Variables\n",
    "\n",
    "Next, we will store the variable studentDropIndia to a generic variable ds and take a glimpse of it. This will make the following steps somewhat generic and often we can just load a different dataset into ds and these steps can simply be re-run without change. Finally, we save the variable studentDropIndia into a data folder as a .RData file and reload it for testing."
   ]
  },
  {
   "cell_type": "code",
   "execution_count": 5,
   "metadata": {
    "attributes": {
     "classes": [],
     "error": "FALSE",
     "id": "",
     "message": "FALSE,",
     "warning": "FALSE,"
    },
    "collapsed": false
   },
   "outputs": [
    {
     "name": "stdout",
     "output_type": "stream",
     "text": [
      "Observations: 19,100\n",
      "Variables: 15\n",
      "$ continue_drop      <chr> \"continue\", \"continue\", \"continue\", \"continue\", ...\n",
      "$ student_id         <chr> \"s00001\", \"s00002\", \"s00003\", \"s00004\", \"s00005\"...\n",
      "$ gender             <chr> \"F\", \"F\", \"F\", \"F\", \"F\", \"F\", \"F\", \"F\", \"F\", \"F\"...\n",
      "$ caste              <chr> \"SC\", \"BC\", \"OC\", \"BC\", \"OC\", \"BC\", \"OC\", \"OC\", ...\n",
      "$ mathematics_marks  <dbl> 0.409, 0.290, 0.602, 0.378, 0.536, 0.594, 0.177,...\n",
      "$ english_marks      <dbl> 0.514, 0.512, 0.666, 0.526, 0.614, 0.519, 0.525,...\n",
      "$ science_marks      <dbl> 0.409, 0.290, 0.602, 0.378, 0.536, 0.594, 0.177,...\n",
      "$ science_teacher    <int> 6, 4, 4, 8, 9, 4, 6, 2, 2, 8, 8, 2, 0, 1, 0, 3, ...\n",
      "$ languages_teacher  <int> 0, 7, 2, 7, 4, 8, 7, 9, 2, 10, 6, 2, 4, 6, 3, 12...\n",
      "$ guardian           <chr> \"mother\", \"mother\", \"mother\", \"mother\", \"other\",...\n",
      "$ internet           <lgl> TRUE, TRUE, FALSE, TRUE, TRUE, TRUE, TRUE, TRUE,...\n",
      "$ school_id          <chr> \"00310\", \"00328\", \"00322\", \"00305\", \"00360\", \"00...\n",
      "$ total_students     <int> 262, 356, 179, 354, 273, 335, 251, 99, 299, 295,...\n",
      "$ total_toilets      <int> 28, 14, 8, 86, 2, 43, 100, 14, 1, 18, 31, 2, 28,...\n",
      "$ establishment_year <int> 1985, 1943, 1955, 1986, 1995, 1916, 1924, 1956, ...\n"
     ]
    }
   ],
   "source": [
    "# Prepare the dataset for usage with our template.\n",
    "\n",
    "ds <- get(dsname)\n",
    "glimpse(ds)"
   ]
  },
  {
   "cell_type": "code",
   "execution_count": 6,
   "metadata": {
    "attributes": {
     "classes": [],
     "error": "FALSE",
     "id": "",
     "message": "FALSE,",
     "warning": "FALSE,"
    },
    "collapsed": false
   },
   "outputs": [
    {
     "name": "stdout",
     "output_type": "stream",
     "text": [
      "[1] \"studentDropIndia\"\n"
     ]
    }
   ],
   "source": [
    "# Save the dataset to disk as a binary backup if needed.\n",
    "\n",
    "fpath <- \"data\"\n",
    "fname <- file.path(fpath, dsname %s+% \".RData\")\n",
    "if (! dir.exists(fpath)) dir.create(fpath)\n",
    "save(studentDropIndia, file=fname)\n",
    "\n",
    "# Remove the original dataset to save on memory.\n",
    "\n",
    "rm(studentDropIndia)\n",
    "\n",
    "# Test the loading of the saved dataset and then cleanup.\n",
    "\n",
    "load(fname) %>% print()\n",
    "\n",
    "rm(studentDropIndia)"
   ]
  },
  {
   "cell_type": "markdown",
   "metadata": {
    "anaconda-cloud": {},
    "kernelspec": {
     "display_name": "R",
     "language": "R",
     "name": "ir"
    },
    "language_info": {
     "codemirror_mode": "r",
     "file_extension": ".r",
     "mimetype": "text/x-r-source",
     "name": "R",
     "pygments_lexer": "r",
     "version": "3.2.2"
    }
   },
   "source": [
    "# Step 2.1: Review - Dataset\n",
    "\n",
    "We check the dimension and variable information of the dataset. There are 19,100 rows and 15 columns totally in the dataset, which includes variables showing information about student demographic, school attributes, teacher skills and school record in various data types."
   ]
  },
  {
   "cell_type": "code",
   "execution_count": 7,
   "metadata": {
    "attributes": {
     "classes": [],
     "error": "FALSE",
     "id": "",
     "message": "FALSE,",
     "warning": "FALSE,"
    },
    "collapsed": false
   },
   "outputs": [
    {
     "name": "stdout",
     "output_type": "stream",
     "text": [
      "19,100 \n",
      "15 \n"
     ]
    }
   ],
   "source": [
    "########################################################################\n",
    "# DATA OBSERVATION\n",
    "\n",
    "# Basic size information.\n",
    "\n",
    "nrow(ds) %>% echo()\n",
    "ncol(ds) %>% echo()"
   ]
  },
  {
   "cell_type": "code",
   "execution_count": 8,
   "metadata": {
    "attributes": {
     "classes": [],
     "error": "FALSE",
     "id": "",
     "message": "FALSE,",
     "warning": "FALSE,"
    },
    "collapsed": false
   },
   "outputs": [
    {
     "name": "stdout",
     "output_type": "stream",
     "text": [
      "Observations: 19,100\n",
      "Variables: 15\n",
      "$ continue_drop      <chr> \"continue\", \"continue\", \"continue\", \"continue\", ...\n",
      "$ student_id         <chr> \"s00001\", \"s00002\", \"s00003\", \"s00004\", \"s00005\"...\n",
      "$ gender             <chr> \"F\", \"F\", \"F\", \"F\", \"F\", \"F\", \"F\", \"F\", \"F\", \"F\"...\n",
      "$ caste              <chr> \"SC\", \"BC\", \"OC\", \"BC\", \"OC\", \"BC\", \"OC\", \"OC\", ...\n",
      "$ mathematics_marks  <dbl> 0.409, 0.290, 0.602, 0.378, 0.536, 0.594, 0.177,...\n",
      "$ english_marks      <dbl> 0.514, 0.512, 0.666, 0.526, 0.614, 0.519, 0.525,...\n",
      "$ science_marks      <dbl> 0.409, 0.290, 0.602, 0.378, 0.536, 0.594, 0.177,...\n",
      "$ science_teacher    <int> 6, 4, 4, 8, 9, 4, 6, 2, 2, 8, 8, 2, 0, 1, 0, 3, ...\n",
      "$ languages_teacher  <int> 0, 7, 2, 7, 4, 8, 7, 9, 2, 10, 6, 2, 4, 6, 3, 12...\n",
      "$ guardian           <chr> \"mother\", \"mother\", \"mother\", \"mother\", \"other\",...\n",
      "$ internet           <lgl> TRUE, TRUE, FALSE, TRUE, TRUE, TRUE, TRUE, TRUE,...\n",
      "$ school_id          <chr> \"00310\", \"00328\", \"00322\", \"00305\", \"00360\", \"00...\n",
      "$ total_students     <int> 262, 356, 179, 354, 273, 335, 251, 99, 299, 295,...\n",
      "$ total_toilets      <int> 28, 14, 8, 86, 2, 43, 100, 14, 1, 18, 31, 2, 28,...\n",
      "$ establishment_year <int> 1985, 1943, 1955, 1986, 1995, 1916, 1924, 1956, ...\n"
     ]
    }
   ],
   "source": [
    "# A glimpse into the dataset.\n",
    "\n",
    "glimpse(ds)"
   ]
  },
  {
   "cell_type": "markdown",
   "metadata": {
    "anaconda-cloud": {},
    "kernelspec": {
     "display_name": "R",
     "language": "R",
     "name": "ir"
    },
    "language_info": {
     "codemirror_mode": "r",
     "file_extension": ".r",
     "mimetype": "text/x-r-source",
     "name": "R",
     "pygments_lexer": "r",
     "version": "3.2.2"
    }
   },
   "source": [
    "# Step 2.2: Review - Meta Data Cleansing\n",
    "\n",
    "Then we review the variable names and convert them into a standard form using the function normVarNames() from rattle."
   ]
  },
  {
   "cell_type": "code",
   "execution_count": 9,
   "metadata": {
    "attributes": {
     "classes": [],
     "error": "FALSE",
     "id": "",
     "message": "FALSE,",
     "warning": "FALSE,"
    },
    "collapsed": false
   },
   "outputs": [
    {
     "data": {
      "text/html": [
       "<ol class=list-inline>\n",
       "\t<li>'continue_drop'</li>\n",
       "\t<li>'student_id'</li>\n",
       "\t<li>'gender'</li>\n",
       "\t<li>'caste'</li>\n",
       "\t<li>'mathematics_marks'</li>\n",
       "\t<li>'english_marks'</li>\n",
       "\t<li>'science_marks'</li>\n",
       "\t<li>'science_teacher'</li>\n",
       "\t<li>'languages_teacher'</li>\n",
       "\t<li>'guardian'</li>\n",
       "\t<li>'internet'</li>\n",
       "\t<li>'school_id'</li>\n",
       "\t<li>'total_students'</li>\n",
       "\t<li>'total_toilets'</li>\n",
       "\t<li>'establishment_year'</li>\n",
       "</ol>\n"
      ],
      "text/latex": [
       "\\begin{enumerate*}\n",
       "\\item 'continue\\_drop'\n",
       "\\item 'student\\_id'\n",
       "\\item 'gender'\n",
       "\\item 'caste'\n",
       "\\item 'mathematics\\_marks'\n",
       "\\item 'english\\_marks'\n",
       "\\item 'science\\_marks'\n",
       "\\item 'science\\_teacher'\n",
       "\\item 'languages\\_teacher'\n",
       "\\item 'guardian'\n",
       "\\item 'internet'\n",
       "\\item 'school\\_id'\n",
       "\\item 'total\\_students'\n",
       "\\item 'total\\_toilets'\n",
       "\\item 'establishment\\_year'\n",
       "\\end{enumerate*}\n"
      ],
      "text/markdown": [
       "1. 'continue_drop'\n",
       "2. 'student_id'\n",
       "3. 'gender'\n",
       "4. 'caste'\n",
       "5. 'mathematics_marks'\n",
       "6. 'english_marks'\n",
       "7. 'science_marks'\n",
       "8. 'science_teacher'\n",
       "9. 'languages_teacher'\n",
       "10. 'guardian'\n",
       "11. 'internet'\n",
       "12. 'school_id'\n",
       "13. 'total_students'\n",
       "14. 'total_toilets'\n",
       "15. 'establishment_year'\n",
       "\n",
       "\n"
      ],
      "text/plain": [
       " [1] \"continue_drop\"      \"student_id\"         \"gender\"            \n",
       " [4] \"caste\"              \"mathematics_marks\"  \"english_marks\"     \n",
       " [7] \"science_marks\"      \"science_teacher\"    \"languages_teacher\" \n",
       "[10] \"guardian\"           \"internet\"           \"school_id\"         \n",
       "[13] \"total_students\"     \"total_toilets\"      \"establishment_year\""
      ]
     },
     "metadata": {},
     "output_type": "display_data"
    }
   ],
   "source": [
    "########################################################################\n",
    "# DATA WRANGLING\n",
    "\n",
    "# Review the variables to optionally normalise their names.\n",
    "\n",
    "names(ds)"
   ]
  },
  {
   "cell_type": "code",
   "execution_count": 10,
   "metadata": {
    "attributes": {
     "classes": [],
     "error": "FALSE",
     "id": "",
     "message": "FALSE,",
     "warning": "FALSE,"
    },
    "collapsed": false
   },
   "outputs": [
    {
     "name": "stdout",
     "output_type": "stream",
     "text": [
      " [1] \"continue_drop\"      \"student_id\"         \"gender\"            \n",
      " [4] \"caste\"              \"mathematics_marks\"  \"english_marks\"     \n",
      " [7] \"science_marks\"      \"science_teacher\"    \"languages_teacher\" \n",
      "[10] \"guardian\"           \"internet\"           \"school_id\"         \n",
      "[13] \"total_students\"     \"total_toilets\"      \"establishment_year\"\n"
     ]
    }
   ],
   "source": [
    "# Normalise the variable names.\n",
    "\n",
    "names(ds) %<>% normVarNames() %T>% print()"
   ]
  },
  {
   "cell_type": "code",
   "execution_count": 11,
   "metadata": {
    "attributes": {
     "classes": [],
     "error": "FALSE",
     "id": "",
     "message": "FALSE,",
     "warning": "FALSE,"
    },
    "collapsed": false
   },
   "outputs": [
    {
     "name": "stdout",
     "output_type": "stream",
     "text": [
      "Observations: 19,100\n",
      "Variables: 15\n",
      "$ continue_drop      <chr> \"continue\", \"continue\", \"continue\", \"continue\", ...\n",
      "$ student_id         <chr> \"s00001\", \"s00002\", \"s00003\", \"s00004\", \"s00005\"...\n",
      "$ gender             <chr> \"F\", \"F\", \"F\", \"F\", \"F\", \"F\", \"F\", \"F\", \"F\", \"F\"...\n",
      "$ caste              <chr> \"SC\", \"BC\", \"OC\", \"BC\", \"OC\", \"BC\", \"OC\", \"OC\", ...\n",
      "$ mathematics_marks  <dbl> 0.409, 0.290, 0.602, 0.378, 0.536, 0.594, 0.177,...\n",
      "$ english_marks      <dbl> 0.514, 0.512, 0.666, 0.526, 0.614, 0.519, 0.525,...\n",
      "$ science_marks      <dbl> 0.409, 0.290, 0.602, 0.378, 0.536, 0.594, 0.177,...\n",
      "$ science_teacher    <int> 6, 4, 4, 8, 9, 4, 6, 2, 2, 8, 8, 2, 0, 1, 0, 3, ...\n",
      "$ languages_teacher  <int> 0, 7, 2, 7, 4, 8, 7, 9, 2, 10, 6, 2, 4, 6, 3, 12...\n",
      "$ guardian           <chr> \"mother\", \"mother\", \"mother\", \"mother\", \"other\",...\n",
      "$ internet           <lgl> TRUE, TRUE, FALSE, TRUE, TRUE, TRUE, TRUE, TRUE,...\n",
      "$ school_id          <chr> \"00310\", \"00328\", \"00322\", \"00305\", \"00360\", \"00...\n",
      "$ total_students     <int> 262, 356, 179, 354, 273, 335, 251, 99, 299, 295,...\n",
      "$ total_toilets      <int> 28, 14, 8, 86, 2, 43, 100, 14, 1, 18, 31, 2, 28,...\n",
      "$ establishment_year <int> 1985, 1943, 1955, 1986, 1995, 1916, 1924, 1956, ...\n"
     ]
    }
   ],
   "source": [
    "# Review the dataset.\n",
    "\n",
    "glimpse(ds)"
   ]
  },
  {
   "cell_type": "markdown",
   "metadata": {
    "anaconda-cloud": {},
    "kernelspec": {
     "display_name": "R",
     "language": "R",
     "name": "ir"
    },
    "language_info": {
     "codemirror_mode": "r",
     "file_extension": ".r",
     "mimetype": "text/x-r-source",
     "name": "R",
     "pygments_lexer": "r",
     "version": "3.2.2"
    }
   },
   "source": [
    "# Step 2.3: Review - Observations\n",
    "\n",
    "Once we have normalized the variable names, the next step is to understand the shape of the dataset. A first look at the sample observations by using head(), tail(), and sample_n() give us an initial understanding of the data."
   ]
  },
  {
   "cell_type": "code",
   "execution_count": 12,
   "metadata": {
    "attributes": {
     "classes": [],
     "error": "FALSE",
     "id": "",
     "message": "FALSE,",
     "warning": "FALSE,"
    },
    "collapsed": false
   },
   "outputs": [
    {
     "name": "stdout",
     "output_type": "stream",
     "text": [
      "  continue_drop student_id gender caste mathematics_marks english_marks\n",
      "1      continue     s00001      F    SC             0.409         0.514\n",
      "2      continue     s00002      F    BC             0.290         0.512\n",
      "3      continue     s00003      F    OC             0.602         0.666\n",
      "4      continue     s00004      F    BC             0.378         0.526\n",
      "5      continue     s00005      F    OC             0.536         0.614\n",
      "6      continue     s00006      F    BC             0.594         0.519\n",
      "  science_marks science_teacher languages_teacher guardian internet school_id\n",
      "1         0.409               6                 0   mother     TRUE     00310\n",
      "2         0.290               4                 7   mother     TRUE     00328\n",
      "3         0.602               4                 2   mother    FALSE     00322\n",
      "4         0.378               8                 7   mother     TRUE     00305\n",
      "5         0.536               9                 4    other     TRUE     00360\n",
      "6         0.594               4                 8   mother     TRUE     00333\n",
      "  total_students total_toilets establishment_year\n",
      "1            262            28               1985\n",
      "2            356            14               1943\n",
      "3            179             8               1955\n",
      "4            354            86               1986\n",
      "5            273             2               1995\n",
      "6            335            43               1916\n"
     ]
    }
   ],
   "source": [
    "# Review the first few observations.\n",
    "\n",
    "head(ds) %>% print.data.frame()"
   ]
  },
  {
   "cell_type": "code",
   "execution_count": 13,
   "metadata": {
    "attributes": {
     "classes": [],
     "error": "FALSE",
     "id": "",
     "message": "FALSE,",
     "warning": "FALSE,"
    },
    "collapsed": false
   },
   "outputs": [
    {
     "name": "stdout",
     "output_type": "stream",
     "text": [
      "  continue_drop student_id gender caste mathematics_marks english_marks\n",
      "1      continue     s19095      M    OC             0.478         0.642\n",
      "2      continue     s19096      M    OC             0.323         0.429\n",
      "3      continue     s19097      M    BC             0.633         0.885\n",
      "4      continue     s19098      M    SC             0.337         0.283\n",
      "5      continue     s19099      M    BC             0.344         0.351\n",
      "6      continue     s19100      M    BC             0.183         0.077\n",
      "  science_marks science_teacher languages_teacher guardian internet school_id\n",
      "1         0.478               4                 0   father     TRUE     00389\n",
      "2         0.323               2                 7   mother     TRUE     00320\n",
      "3         0.633               6                 2   mother     TRUE     00378\n",
      "4         0.337               2                 6    other     TRUE     00378\n",
      "5         0.344               6                 0    other     TRUE     00374\n",
      "6         0.183               4                 6   mother    FALSE     00343\n",
      "  total_students total_toilets establishment_year\n",
      "1            299             1               1921\n",
      "2            384            28               1909\n",
      "3            121            28               1971\n",
      "4            121            28               1971\n",
      "5            207            28               1896\n",
      "6            353            15               1957\n"
     ]
    }
   ],
   "source": [
    "# Review the last few observations.\n",
    "\n",
    "tail(ds) %>% print.data.frame()"
   ]
  },
  {
   "cell_type": "code",
   "execution_count": 14,
   "metadata": {
    "attributes": {
     "classes": [],
     "error": "FALSE",
     "id": "",
     "message": "FALSE,",
     "warning": "FALSE,"
    },
    "collapsed": false
   },
   "outputs": [
    {
     "name": "stdout",
     "output_type": "stream",
     "text": [
      "  continue_drop student_id gender caste mathematics_marks english_marks\n",
      "1      continue     s03940      F    OC             0.885         0.985\n",
      "2      continue     s06472      F    OC             0.681         0.849\n",
      "3      continue     s08425      F    ST             0.380         0.426\n",
      "4      continue     s14461      M    SC             0.408         0.659\n",
      "5      continue     s10636      M    OC             0.499         0.744\n",
      "6      continue     s05789      F    BC             0.544         0.597\n",
      "  science_marks science_teacher languages_teacher guardian internet school_id\n",
      "1         0.885               5                 5   father     TRUE     00333\n",
      "2         0.681               4                10   mother     TRUE     00370\n",
      "3         0.380               9                 4   mother     TRUE     00353\n",
      "4         0.408               4                 4   mother     TRUE     00310\n",
      "5         0.499               9                11   mother     TRUE     00304\n",
      "6         0.544               5                 5   mother     TRUE     00365\n",
      "  total_students total_toilets establishment_year\n",
      "1            335            43               1916\n",
      "2            272             1               1961\n",
      "3            359             8               1986\n",
      "4            262            28               1985\n",
      "5            390            28               1914\n",
      "6            444            14               1970\n"
     ]
    }
   ],
   "source": [
    "# Review a random sample of observations.\n",
    "\n",
    "sample_n(ds, size=6) %>% print.data.frame()"
   ]
  },
  {
   "cell_type": "markdown",
   "metadata": {
    "anaconda-cloud": {},
    "kernelspec": {
     "display_name": "R",
     "language": "R",
     "name": "ir"
    },
    "language_info": {
     "codemirror_mode": "r",
     "file_extension": ".r",
     "mimetype": "text/x-r-source",
     "name": "R",
     "pygments_lexer": "r",
     "version": "3.2.2"
    }
   },
   "source": [
    "# Step 2.4: Review - Summary\n",
    "\n",
    "Next, we use summary() to preview the distributions of each variable."
   ]
  },
  {
   "cell_type": "code",
   "execution_count": 15,
   "metadata": {
    "attributes": {
     "classes": [],
     "error": "FALSE",
     "id": "",
     "message": "FALSE,",
     "warning": "FALSE,"
    },
    "collapsed": false
   },
   "outputs": [
    {
     "data": {
      "text/plain": [
       " continue_drop       student_id           gender             caste          \n",
       " Length:19100       Length:19100       Length:19100       Length:19100      \n",
       " Class :character   Class :character   Class :character   Class :character  \n",
       " Mode  :character   Mode  :character   Mode  :character   Mode  :character  \n",
       "                                                                            \n",
       "                                                                            \n",
       "                                                                            \n",
       "                                                                            \n",
       " mathematics_marks english_marks    science_marks    science_teacher\n",
       " Min.   :0.0230    Min.   :0.0770   Min.   :0.0230   Min.   :0.000  \n",
       " 1st Qu.:0.3730    1st Qu.:0.4500   1st Qu.:0.3730   1st Qu.:2.000  \n",
       " Median :0.5150    Median :0.5595   Median :0.5150   Median :4.000  \n",
       " Mean   :0.5203    Mean   :0.5625   Mean   :0.5203   Mean   :3.982  \n",
       " 3rd Qu.:0.6740    3rd Qu.:0.6670   3rd Qu.:0.6740   3rd Qu.:6.000  \n",
       " Max.   :1.0320    Max.   :1.0100   Max.   :1.0320   Max.   :9.000  \n",
       "                                                                    \n",
       " languages_teacher   guardian          internet        school_id        \n",
       " Min.   : 0.000    Length:19100       Mode :logical   Length:19100      \n",
       " 1st Qu.: 3.000    Class :character   FALSE:2900      Class :character  \n",
       " Median : 5.000    Mode  :character   TRUE :16200     Mode  :character  \n",
       " Mean   : 5.233                       NA's :0                           \n",
       " 3rd Qu.: 7.000                                                         \n",
       " Max.   :12.000                                                         \n",
       "                                                                        \n",
       " total_students  total_toilets    establishment_year\n",
       " Min.   : 15.0   Min.   :  1.00   Min.   :1799      \n",
       " 1st Qu.:177.0   1st Qu.: 14.00   1st Qu.:1911      \n",
       " Median :262.0   Median : 15.00   Median :1929      \n",
       " Mean   :273.8   Mean   : 24.16   Mean   :1938      \n",
       " 3rd Qu.:384.0   3rd Qu.: 28.00   3rd Qu.:1972      \n",
       " Max.   :571.0   Max.   :100.00   Max.   :2026      \n",
       "                 NA's   :338      NA's   :338       "
      ]
     },
     "metadata": {},
     "output_type": "display_data"
    }
   ],
   "source": [
    "# Traditional dataset summary to get started.\n",
    "\n",
    "summary(ds)"
   ]
  },
  {
   "cell_type": "markdown",
   "metadata": {
    "anaconda-cloud": {},
    "kernelspec": {
     "display_name": "R",
     "language": "R",
     "name": "ir"
    },
    "language_info": {
     "codemirror_mode": "r",
     "file_extension": ".r",
     "mimetype": "text/x-r-source",
     "name": "R",
     "pygments_lexer": "r",
     "version": "3.2.2"
    }
   },
   "source": [
    "# Step 2.5: Review - Data Formats\n",
    "\n",
    "Except for the generic data wrangling, we now do data wrangling customized for studentDropIndia. For example, we may need to correct the format of some of the variables in our dataset. We might first check the data type of each variable. Noting that there are categorical variables in the formats of character and integer, we may like to convert them to factor."
   ]
  },
  {
   "cell_type": "code",
   "execution_count": 16,
   "metadata": {
    "attributes": {
     "classes": [],
     "error": "FALSE",
     "id": "",
     "message": "FALSE,",
     "warning": "FALSE,"
    },
    "collapsed": false
   },
   "outputs": [
    {
     "data": {
      "text/html": [
       "100"
      ],
      "text/latex": [
       "100"
      ],
      "text/markdown": [
       "100"
      ],
      "text/plain": [
       "[1] 100"
      ]
     },
     "metadata": {},
     "output_type": "display_data"
    }
   ],
   "source": [
    "####################################\n",
    "# studentDropIndia data wrangling.\n",
    "\n",
    "# How many schools are represented in the dataset? (Why we need to know this)\n",
    "\n",
    "ds$school_id %>% \n",
    "  unique() %>%\n",
    "  length()"
   ]
  },
  {
   "cell_type": "code",
   "execution_count": 17,
   "metadata": {
    "attributes": {
     "classes": [],
     "error": "FALSE",
     "id": "",
     "message": "FALSE,",
     "warning": "FALSE,"
    },
    "collapsed": false
   },
   "outputs": [
    {
     "data": {
      "text/html": [
       "<dl class=dl-horizontal>\n",
       "\t<dt>continue_drop</dt>\n",
       "\t\t<dd>'character'</dd>\n",
       "\t<dt>student_id</dt>\n",
       "\t\t<dd>'character'</dd>\n",
       "\t<dt>gender</dt>\n",
       "\t\t<dd>'character'</dd>\n",
       "\t<dt>caste</dt>\n",
       "\t\t<dd>'character'</dd>\n",
       "\t<dt>mathematics_marks</dt>\n",
       "\t\t<dd>'numeric'</dd>\n",
       "\t<dt>english_marks</dt>\n",
       "\t\t<dd>'numeric'</dd>\n",
       "\t<dt>science_marks</dt>\n",
       "\t\t<dd>'numeric'</dd>\n",
       "\t<dt>science_teacher</dt>\n",
       "\t\t<dd>'integer'</dd>\n",
       "\t<dt>languages_teacher</dt>\n",
       "\t\t<dd>'integer'</dd>\n",
       "\t<dt>guardian</dt>\n",
       "\t\t<dd>'character'</dd>\n",
       "\t<dt>internet</dt>\n",
       "\t\t<dd>'logical'</dd>\n",
       "\t<dt>school_id</dt>\n",
       "\t\t<dd>'character'</dd>\n",
       "\t<dt>total_students</dt>\n",
       "\t\t<dd>'integer'</dd>\n",
       "\t<dt>total_toilets</dt>\n",
       "\t\t<dd>'integer'</dd>\n",
       "\t<dt>establishment_year</dt>\n",
       "\t\t<dd>'integer'</dd>\n",
       "</dl>\n"
      ],
      "text/latex": [
       "\\begin{description*}\n",
       "\\item[continue\\textbackslash{}\\_drop] 'character'\n",
       "\\item[student\\textbackslash{}\\_id] 'character'\n",
       "\\item[gender] 'character'\n",
       "\\item[caste] 'character'\n",
       "\\item[mathematics\\textbackslash{}\\_marks] 'numeric'\n",
       "\\item[english\\textbackslash{}\\_marks] 'numeric'\n",
       "\\item[science\\textbackslash{}\\_marks] 'numeric'\n",
       "\\item[science\\textbackslash{}\\_teacher] 'integer'\n",
       "\\item[languages\\textbackslash{}\\_teacher] 'integer'\n",
       "\\item[guardian] 'character'\n",
       "\\item[internet] 'logical'\n",
       "\\item[school\\textbackslash{}\\_id] 'character'\n",
       "\\item[total\\textbackslash{}\\_students] 'integer'\n",
       "\\item[total\\textbackslash{}\\_toilets] 'integer'\n",
       "\\item[establishment\\textbackslash{}\\_year] 'integer'\n",
       "\\end{description*}\n"
      ],
      "text/markdown": [
       "continue_drop\n",
       ":   'character'student_id\n",
       ":   'character'gender\n",
       ":   'character'caste\n",
       ":   'character'mathematics_marks\n",
       ":   'numeric'english_marks\n",
       ":   'numeric'science_marks\n",
       ":   'numeric'science_teacher\n",
       ":   'integer'languages_teacher\n",
       ":   'integer'guardian\n",
       ":   'character'internet\n",
       ":   'logical'school_id\n",
       ":   'character'total_students\n",
       ":   'integer'total_toilets\n",
       ":   'integer'establishment_year\n",
       ":   'integer'\n",
       "\n"
      ],
      "text/plain": [
       "     continue_drop         student_id             gender              caste \n",
       "       \"character\"        \"character\"        \"character\"        \"character\" \n",
       " mathematics_marks      english_marks      science_marks    science_teacher \n",
       "         \"numeric\"          \"numeric\"          \"numeric\"          \"integer\" \n",
       " languages_teacher           guardian           internet          school_id \n",
       "         \"integer\"        \"character\"          \"logical\"        \"character\" \n",
       "    total_students      total_toilets establishment_year \n",
       "         \"integer\"          \"integer\"          \"integer\" "
      ]
     },
     "metadata": {},
     "output_type": "display_data"
    }
   ],
   "source": [
    "# Check the class of all the variables.\n",
    "\n",
    "ds %>% sapply(class)"
   ]
  },
  {
   "cell_type": "code",
   "execution_count": 18,
   "metadata": {
    "attributes": {
     "classes": [],
     "error": "FALSE",
     "id": "",
     "message": "FALSE,",
     "warning": "FALSE,"
    },
    "collapsed": false
   },
   "outputs": [
    {
     "name": "stdout",
     "output_type": "stream",
     "text": [
      "[1] \"continue_drop\" \"student_id\"    \"gender\"        \"caste\"        \n",
      "[5] \"guardian\"      \"school_id\"    \n"
     ]
    }
   ],
   "source": [
    "# Select all the character variables.\n",
    "\n",
    "ds %>%\n",
    "  sapply(is.character) %>%\n",
    "  which(useNames=TRUE) %>%\n",
    "  names() %T>% \n",
    "  print() ->\n",
    "vnames"
   ]
  },
  {
   "cell_type": "code",
   "execution_count": 19,
   "metadata": {
    "attributes": {
     "classes": [],
     "error": "FALSE",
     "id": "",
     "message": "FALSE,",
     "warning": "FALSE,"
    },
    "collapsed": false
   },
   "outputs": [
    {
     "data": {
      "text/plain": [
       "  continue_drop     student_id    gender   caste       guardian    \n",
       " continue:18200   s00001 :    1   F:9900   BC:9700   father: 4400  \n",
       " drop    :  900   s00002 :    1   M:9200   OC:3000   mixed :  300  \n",
       "                  s00003 :    1            SC:5350   mother:13600  \n",
       "                  s00004 :    1            ST:1050   other :  800  \n",
       "                  s00005 :    1                                    \n",
       "                  s00006 :    1                                    \n",
       "                  (Other):19094                                    \n",
       "   school_id    \n",
       " 00334  :  571  \n",
       " 00331  :  516  \n",
       " 00382  :  470  \n",
       " 00392  :  469  \n",
       " 00365  :  444  \n",
       " 00341  :  430  \n",
       " (Other):16200  "
      ]
     },
     "metadata": {},
     "output_type": "display_data"
    }
   ],
   "source": [
    "# Review the values of the variables.\n",
    "\n",
    "ds[vnames] %>%\n",
    "  sapply(as.factor) %>%\n",
    "  summary()"
   ]
  },
  {
   "cell_type": "code",
   "execution_count": 20,
   "metadata": {
    "attributes": {
     "classes": [],
     "error": "FALSE",
     "id": "",
     "message": "FALSE,",
     "warning": "FALSE,"
    },
    "collapsed": false
   },
   "outputs": [
    {
     "name": "stdout",
     "output_type": "stream",
     "text": [
      "[1] \"continue_drop\" \"gender\"        \"caste\"         \"guardian\"     \n",
      "[5] \"school_id\"    \n"
     ]
    },
    {
     "data": {
      "text/html": [
       "<dl class=dl-horizontal>\n",
       "\t<dt>continue_drop</dt>\n",
       "\t\t<dd>'factor'</dd>\n",
       "\t<dt>gender</dt>\n",
       "\t\t<dd>'factor'</dd>\n",
       "\t<dt>caste</dt>\n",
       "\t\t<dd>'factor'</dd>\n",
       "\t<dt>guardian</dt>\n",
       "\t\t<dd>'factor'</dd>\n",
       "\t<dt>school_id</dt>\n",
       "\t\t<dd>'factor'</dd>\n",
       "</dl>\n"
      ],
      "text/latex": [
       "\\begin{description*}\n",
       "\\item[continue\\textbackslash{}\\_drop] 'factor'\n",
       "\\item[gender] 'factor'\n",
       "\\item[caste] 'factor'\n",
       "\\item[guardian] 'factor'\n",
       "\\item[school\\textbackslash{}\\_id] 'factor'\n",
       "\\end{description*}\n"
      ],
      "text/markdown": [
       "continue_drop\n",
       ":   'factor'gender\n",
       ":   'factor'caste\n",
       ":   'factor'guardian\n",
       ":   'factor'school_id\n",
       ":   'factor'\n",
       "\n"
      ],
      "text/plain": [
       "continue_drop        gender         caste      guardian     school_id \n",
       "     \"factor\"      \"factor\"      \"factor\"      \"factor\"      \"factor\" "
      ]
     },
     "metadata": {},
     "output_type": "display_data"
    }
   ],
   "source": [
    "# Choose to convert these variables from character to factor.\n",
    "\n",
    "vnames %<>% setdiff(c(\"student_id\")) %T>% print()\n",
    "\n",
    "ds[vnames] %<>% \n",
    "  lapply(factor) %>% \n",
    "  data.frame() %>% \n",
    "  tbl_df()\n",
    "\n",
    "# Confirm they are now factors.\n",
    "\n",
    "ds[vnames] %>% sapply(class)"
   ]
  },
  {
   "cell_type": "code",
   "execution_count": 21,
   "metadata": {
    "attributes": {
     "classes": [],
     "error": "FALSE",
     "id": "",
     "message": "FALSE,",
     "warning": "FALSE,"
    },
    "collapsed": false
   },
   "outputs": [
    {
     "name": "stdout",
     "output_type": "stream",
     "text": [
      "[1] \"internet\"\n"
     ]
    }
   ],
   "source": [
    "# Select all the logical variables.\n",
    "\n",
    "ds %>%\n",
    "  sapply(is.logical) %>%\n",
    "  which(useNames=TRUE) %>%\n",
    "  names() %T>% \n",
    "  print() ->\n",
    "vnames"
   ]
  },
  {
   "cell_type": "code",
   "execution_count": 22,
   "metadata": {
    "attributes": {
     "classes": [],
     "error": "FALSE",
     "id": "",
     "message": "FALSE,",
     "warning": "FALSE,"
    },
    "collapsed": false
   },
   "outputs": [
    {
     "data": {
      "text/html": [
       "<table>\n",
       "<thead><tr><th scope=col>internet</th></tr></thead>\n",
       "<tbody>\n",
       "\t<tr><td> TRUE</td></tr>\n",
       "\t<tr><td> TRUE</td></tr>\n",
       "\t<tr><td>FALSE</td></tr>\n",
       "\t<tr><td> TRUE</td></tr>\n",
       "\t<tr><td> TRUE</td></tr>\n",
       "\t<tr><td> TRUE</td></tr>\n",
       "</tbody>\n",
       "</table>\n"
      ],
      "text/latex": [
       "\\begin{tabular}{r|l}\n",
       " internet\\\\\n",
       "\\hline\n",
       "\t  TRUE\\\\\n",
       "\t  TRUE\\\\\n",
       "\t FALSE\\\\\n",
       "\t  TRUE\\\\\n",
       "\t  TRUE\\\\\n",
       "\t  TRUE\\\\\n",
       "\\end{tabular}\n"
      ],
      "text/plain": [
       "  internet\n",
       "1  TRUE   \n",
       "2  TRUE   \n",
       "3 FALSE   \n",
       "4  TRUE   \n",
       "5  TRUE   \n",
       "6  TRUE   "
      ]
     },
     "metadata": {},
     "output_type": "display_data"
    }
   ],
   "source": [
    "# Decide to convert these variables from logical to factor.\n",
    "\n",
    "ds[vnames] %>% head()"
   ]
  },
  {
   "cell_type": "code",
   "execution_count": 23,
   "metadata": {
    "attributes": {
     "classes": [],
     "error": "FALSE",
     "id": "",
     "message": "FALSE,",
     "warning": "FALSE,"
    },
    "collapsed": false
   },
   "outputs": [
    {
     "name": "stdout",
     "output_type": "stream",
     "text": [
      "# A tibble: 6 x 1\n",
      "  internet\n",
      "    <fctr>\n",
      "1     TRUE\n",
      "2     TRUE\n",
      "3    FALSE\n",
      "4     TRUE\n",
      "5     TRUE\n",
      "6     TRUE\n"
     ]
    }
   ],
   "source": [
    "ds[vnames] %<>% \n",
    "  lapply(factor) %>% \n",
    "  data.frame() %>% \n",
    "  tbl_df() %T>%\n",
    "  {head(.) %>% print()}"
   ]
  },
  {
   "cell_type": "code",
   "execution_count": 24,
   "metadata": {
    "attributes": {
     "classes": [],
     "error": "FALSE",
     "id": "",
     "message": "FALSE,",
     "warning": "FALSE,"
    },
    "collapsed": false
   },
   "outputs": [
    {
     "data": {
      "text/plain": [
       "$continue_drop\n",
       "\n",
       "continue     drop \n",
       "   18200      900 \n",
       "\n",
       "$gender\n",
       "\n",
       "   F    M \n",
       "9900 9200 \n",
       "\n",
       "$caste\n",
       "\n",
       "  BC   OC   SC   ST \n",
       "9700 3000 5350 1050 \n",
       "\n",
       "$guardian\n",
       "\n",
       "father  mixed mother  other \n",
       "  4400    300  13600    800 \n",
       "\n",
       "$internet\n",
       "\n",
       "FALSE  TRUE \n",
       " 2900 16200 \n",
       "\n",
       "$school_id\n",
       "\n",
       "00300 00301 00302 00303 00304 00305 00306 00307 00308 00309 00310 00311 00312 \n",
       "  198    49   191    28   390   354    72   177    38    28   262   209   257 \n",
       "00313 00314 00315 00316 00317 00318 00319 00320 00321 00322 00323 00324 00325 \n",
       "  399   286   280    59    28    54    96   384    35   179   344   170    97 \n",
       "00326 00327 00328 00329 00330 00331 00332 00333 00334 00335 00336 00337 00338 \n",
       "  177   251   356   275   125   516    93   335   571    87   206   185   145 \n",
       "00339 00340 00341 00342 00343 00344 00345 00346 00347 00348 00349 00350 00351 \n",
       "  245   134   430   295   353   220   143    87    67    80   132    36   251 \n",
       "00352 00353 00354 00355 00356 00357 00358 00359 00360 00361 00362 00363 00364 \n",
       "  177   359   184    96   154    57    26   305   273   287   397   148   147 \n",
       "00365 00366 00367 00368 00369 00370 00371 00372 00373 00374 00375 00376 00377 \n",
       "  444    62   128   240   387   272   136    99    75   207    29    68    86 \n",
       "00378 00379 00380 00381 00382 00383 00384 00385 00386 00387 00388 00389 00390 \n",
       "  121    95   228    38   470   132   190   193   220   113   155   299   140 \n",
       "00391 00392 00393 00394 00395 00396 00397 00398 00399 \n",
       "  161   469   111   122    60   129   221   116    15 \n"
      ]
     },
     "metadata": {},
     "output_type": "display_data"
    }
   ],
   "source": [
    "# Review the distribution of observations across levels.\n",
    "\n",
    "ds[, sapply(ds, is.factor)] %>% sapply(table)"
   ]
  },
  {
   "cell_type": "code",
   "execution_count": 25,
   "metadata": {
    "attributes": {
     "classes": [],
     "error": "FALSE",
     "id": "",
     "message": "FALSE,",
     "warning": "FALSE,"
    },
    "collapsed": false
   },
   "outputs": [
    {
     "data": {
      "text/html": [
       "<dl class=dl-horizontal>\n",
       "\t<dt>continue_drop</dt>\n",
       "\t\t<dd>'factor'</dd>\n",
       "\t<dt>student_id</dt>\n",
       "\t\t<dd>'character'</dd>\n",
       "\t<dt>gender</dt>\n",
       "\t\t<dd>'factor'</dd>\n",
       "\t<dt>caste</dt>\n",
       "\t\t<dd>'factor'</dd>\n",
       "\t<dt>mathematics_marks</dt>\n",
       "\t\t<dd>'numeric'</dd>\n",
       "\t<dt>english_marks</dt>\n",
       "\t\t<dd>'numeric'</dd>\n",
       "\t<dt>science_marks</dt>\n",
       "\t\t<dd>'numeric'</dd>\n",
       "\t<dt>science_teacher</dt>\n",
       "\t\t<dd>'integer'</dd>\n",
       "\t<dt>languages_teacher</dt>\n",
       "\t\t<dd>'integer'</dd>\n",
       "\t<dt>guardian</dt>\n",
       "\t\t<dd>'factor'</dd>\n",
       "\t<dt>internet</dt>\n",
       "\t\t<dd>'factor'</dd>\n",
       "\t<dt>school_id</dt>\n",
       "\t\t<dd>'factor'</dd>\n",
       "\t<dt>total_students</dt>\n",
       "\t\t<dd>'integer'</dd>\n",
       "\t<dt>total_toilets</dt>\n",
       "\t\t<dd>'integer'</dd>\n",
       "\t<dt>establishment_year</dt>\n",
       "\t\t<dd>'integer'</dd>\n",
       "</dl>\n"
      ],
      "text/latex": [
       "\\begin{description*}\n",
       "\\item[continue\\textbackslash{}\\_drop] 'factor'\n",
       "\\item[student\\textbackslash{}\\_id] 'character'\n",
       "\\item[gender] 'factor'\n",
       "\\item[caste] 'factor'\n",
       "\\item[mathematics\\textbackslash{}\\_marks] 'numeric'\n",
       "\\item[english\\textbackslash{}\\_marks] 'numeric'\n",
       "\\item[science\\textbackslash{}\\_marks] 'numeric'\n",
       "\\item[science\\textbackslash{}\\_teacher] 'integer'\n",
       "\\item[languages\\textbackslash{}\\_teacher] 'integer'\n",
       "\\item[guardian] 'factor'\n",
       "\\item[internet] 'factor'\n",
       "\\item[school\\textbackslash{}\\_id] 'factor'\n",
       "\\item[total\\textbackslash{}\\_students] 'integer'\n",
       "\\item[total\\textbackslash{}\\_toilets] 'integer'\n",
       "\\item[establishment\\textbackslash{}\\_year] 'integer'\n",
       "\\end{description*}\n"
      ],
      "text/markdown": [
       "continue_drop\n",
       ":   'factor'student_id\n",
       ":   'character'gender\n",
       ":   'factor'caste\n",
       ":   'factor'mathematics_marks\n",
       ":   'numeric'english_marks\n",
       ":   'numeric'science_marks\n",
       ":   'numeric'science_teacher\n",
       ":   'integer'languages_teacher\n",
       ":   'integer'guardian\n",
       ":   'factor'internet\n",
       ":   'factor'school_id\n",
       ":   'factor'total_students\n",
       ":   'integer'total_toilets\n",
       ":   'integer'establishment_year\n",
       ":   'integer'\n",
       "\n"
      ],
      "text/plain": [
       "     continue_drop         student_id             gender              caste \n",
       "          \"factor\"        \"character\"           \"factor\"           \"factor\" \n",
       " mathematics_marks      english_marks      science_marks    science_teacher \n",
       "         \"numeric\"          \"numeric\"          \"numeric\"          \"integer\" \n",
       " languages_teacher           guardian           internet          school_id \n",
       "         \"integer\"           \"factor\"           \"factor\"           \"factor\" \n",
       "    total_students      total_toilets establishment_year \n",
       "         \"integer\"          \"integer\"          \"integer\" "
      ]
     },
     "metadata": {},
     "output_type": "display_data"
    }
   ],
   "source": [
    "# Note the remaining variables to be dealt with.\n",
    "\n",
    "sapply(ds, class)"
   ]
  },
  {
   "cell_type": "code",
   "execution_count": 26,
   "metadata": {
    "attributes": {
     "classes": [],
     "error": "FALSE",
     "id": "",
     "message": "FALSE,",
     "warning": "FALSE,"
    },
    "collapsed": false
   },
   "outputs": [
    {
     "data": {
      "text/html": [
       "<table>\n",
       "<thead><tr><th scope=col>english_marks</th><th scope=col>science_marks</th><th scope=col>mathematics_marks</th></tr></thead>\n",
       "<tbody>\n",
       "\t<tr><td>0.514</td><td>0.409</td><td>0.409</td></tr>\n",
       "\t<tr><td>0.512</td><td>0.290</td><td>0.290</td></tr>\n",
       "\t<tr><td>0.666</td><td>0.602</td><td>0.602</td></tr>\n",
       "\t<tr><td>0.526</td><td>0.378</td><td>0.378</td></tr>\n",
       "\t<tr><td>0.614</td><td>0.536</td><td>0.536</td></tr>\n",
       "\t<tr><td>0.519</td><td>0.594</td><td>0.594</td></tr>\n",
       "</tbody>\n",
       "</table>\n"
      ],
      "text/latex": [
       "\\begin{tabular}{r|lll}\n",
       " english\\_marks & science\\_marks & mathematics\\_marks\\\\\n",
       "\\hline\n",
       "\t 0.514 & 0.409 & 0.409\\\\\n",
       "\t 0.512 & 0.290 & 0.290\\\\\n",
       "\t 0.666 & 0.602 & 0.602\\\\\n",
       "\t 0.526 & 0.378 & 0.378\\\\\n",
       "\t 0.614 & 0.536 & 0.536\\\\\n",
       "\t 0.519 & 0.594 & 0.594\\\\\n",
       "\\end{tabular}\n"
      ],
      "text/plain": [
       "  english_marks science_marks mathematics_marks\n",
       "1 0.514         0.409         0.409            \n",
       "2 0.512         0.290         0.290            \n",
       "3 0.666         0.602         0.602            \n",
       "4 0.526         0.378         0.378            \n",
       "5 0.614         0.536         0.536            \n",
       "6 0.519         0.594         0.594            "
      ]
     },
     "metadata": {},
     "output_type": "display_data"
    },
    {
     "data": {
      "text/html": [
       "<table>\n",
       "<thead><tr><th scope=col>english_marks</th><th scope=col>science_marks</th><th scope=col>mathematics_marks</th></tr></thead>\n",
       "<tbody>\n",
       "\t<tr><td>0.544</td><td>0.500</td><td>0.500</td></tr>\n",
       "\t<tr><td>0.582</td><td>0.510</td><td>0.510</td></tr>\n",
       "\t<tr><td>0.572</td><td>0.653</td><td>0.653</td></tr>\n",
       "\t<tr><td>0.409</td><td>0.505</td><td>0.505</td></tr>\n",
       "\t<tr><td>0.615</td><td>0.376</td><td>0.376</td></tr>\n",
       "\t<tr><td>0.537</td><td>0.389</td><td>0.389</td></tr>\n",
       "</tbody>\n",
       "</table>\n"
      ],
      "text/latex": [
       "\\begin{tabular}{r|lll}\n",
       " english\\_marks & science\\_marks & mathematics\\_marks\\\\\n",
       "\\hline\n",
       "\t 0.544 & 0.500 & 0.500\\\\\n",
       "\t 0.582 & 0.510 & 0.510\\\\\n",
       "\t 0.572 & 0.653 & 0.653\\\\\n",
       "\t 0.409 & 0.505 & 0.505\\\\\n",
       "\t 0.615 & 0.376 & 0.376\\\\\n",
       "\t 0.537 & 0.389 & 0.389\\\\\n",
       "\\end{tabular}\n"
      ],
      "text/plain": [
       "  english_marks science_marks mathematics_marks\n",
       "1 0.544         0.500         0.500            \n",
       "2 0.582         0.510         0.510            \n",
       "3 0.572         0.653         0.653            \n",
       "4 0.409         0.505         0.505            \n",
       "5 0.615         0.376         0.376            \n",
       "6 0.537         0.389         0.389            "
      ]
     },
     "metadata": {},
     "output_type": "display_data"
    }
   ],
   "source": [
    "vnames <- c(\"english_marks\", \"science_marks\", \"mathematics_marks\") \n",
    "\n",
    "# Review the values.\n",
    "\n",
    "head(ds[vnames])\n",
    "sample_n(ds[vnames], 6)"
   ]
  },
  {
   "cell_type": "code",
   "execution_count": 27,
   "metadata": {
    "attributes": {
     "classes": [],
     "error": "FALSE",
     "id": "",
     "message": "FALSE,",
     "warning": "FALSE,"
    },
    "collapsed": false
   },
   "outputs": [
    {
     "data": {
      "text/html": [
       "<dl class=dl-horizontal>\n",
       "\t<dt>english_marks</dt>\n",
       "\t\t<dd>'numeric'</dd>\n",
       "\t<dt>science_marks</dt>\n",
       "\t\t<dd>'numeric'</dd>\n",
       "\t<dt>mathematics_marks</dt>\n",
       "\t\t<dd>'numeric'</dd>\n",
       "</dl>\n"
      ],
      "text/latex": [
       "\\begin{description*}\n",
       "\\item[english\\textbackslash{}\\_marks] 'numeric'\n",
       "\\item[science\\textbackslash{}\\_marks] 'numeric'\n",
       "\\item[mathematics\\textbackslash{}\\_marks] 'numeric'\n",
       "\\end{description*}\n"
      ],
      "text/markdown": [
       "english_marks\n",
       ":   'numeric'science_marks\n",
       ":   'numeric'mathematics_marks\n",
       ":   'numeric'\n",
       "\n"
      ],
      "text/plain": [
       "    english_marks     science_marks mathematics_marks \n",
       "        \"numeric\"         \"numeric\"         \"numeric\" "
      ]
     },
     "metadata": {},
     "output_type": "display_data"
    }
   ],
   "source": [
    "# Check the current class of the variables.\n",
    "\n",
    "ds[vnames] %>% sapply(class)"
   ]
  },
  {
   "cell_type": "markdown",
   "metadata": {
    "anaconda-cloud": {},
    "kernelspec": {
     "display_name": "R",
     "language": "R",
     "name": "ir"
    },
    "language_info": {
     "codemirror_mode": "r",
     "file_extension": ".r",
     "mimetype": "text/x-r-source",
     "name": "R",
     "pygments_lexer": "r",
     "version": "3.2.2"
    }
   },
   "source": [
    "# Step 2.6: Review - Variable Roles\n",
    "\n",
    "We are now in a position to identify the roles played by the variables within the dataset. We assign the variable continue_drop which we are going to predict to be our target variable and put it in front of all. We treat the varaibles student_id, and school_id as observation identifiers."
   ]
  },
  {
   "cell_type": "code",
   "execution_count": 28,
   "metadata": {
    "attributes": {
     "classes": [],
     "error": "FALSE",
     "id": "",
     "message": "FALSE,",
     "warning": "FALSE,"
    },
    "collapsed": false
   },
   "outputs": [
    {
     "name": "stdout",
     "output_type": "stream",
     "text": [
      " [1] \"continue_drop\"      \"student_id\"         \"gender\"            \n",
      " [4] \"caste\"              \"mathematics_marks\"  \"english_marks\"     \n",
      " [7] \"science_marks\"      \"science_teacher\"    \"languages_teacher\" \n",
      "[10] \"guardian\"           \"internet\"           \"school_id\"         \n",
      "[13] \"total_students\"     \"total_toilets\"      \"establishment_year\"\n"
     ]
    }
   ],
   "source": [
    "####################################\n",
    "# Variable Roles\n",
    "\n",
    "# Note the available variables.\n",
    "\n",
    "vars <- names(ds) %T>% print()"
   ]
  },
  {
   "cell_type": "code",
   "execution_count": 29,
   "metadata": {
    "attributes": {
     "classes": [],
     "error": "FALSE",
     "id": "",
     "message": "FALSE,",
     "warning": "FALSE,"
    },
    "collapsed": false
   },
   "outputs": [
    {
     "name": "stdout",
     "output_type": "stream",
     "text": [
      " [1] \"continue_drop\"      \"student_id\"         \"gender\"            \n",
      " [4] \"caste\"              \"mathematics_marks\"  \"english_marks\"     \n",
      " [7] \"science_marks\"      \"science_teacher\"    \"languages_teacher\" \n",
      "[10] \"guardian\"           \"internet\"           \"school_id\"         \n",
      "[13] \"total_students\"     \"total_toilets\"      \"establishment_year\"\n"
     ]
    }
   ],
   "source": [
    "# Note the target variable.\n",
    "\n",
    "target <- \"continue_drop\"\n",
    "\n",
    "# Place the target variable at the beginning of the vars.\n",
    "\n",
    "vars <- c(target, vars) %>% unique() %T>% print()\n",
    "\n",
    "# Note any identifiers.\n",
    "\n",
    "id <- c(\"student_id\", \"school_id\")"
   ]
  },
  {
   "cell_type": "markdown",
   "metadata": {
    "anaconda-cloud": {},
    "kernelspec": {
     "display_name": "R",
     "language": "R",
     "name": "ir"
    },
    "language_info": {
     "codemirror_mode": "r",
     "file_extension": ".r",
     "mimetype": "text/x-r-source",
     "name": "R",
     "pygments_lexer": "r",
     "version": "3.2.2"
    }
   },
   "source": [
    "# Step 3.1: Clean - Ignore IDs, Outputs, Missing\n",
    "\n",
    "## IDs and Outputs \n",
    "\n",
    "We will want to ignore some variables that are irrelevant or inappropriate for modelling as normal predictors. We start with the identifiers and the risk variable (there is no risk variable in this case)."
   ]
  },
  {
   "cell_type": "code",
   "execution_count": 30,
   "metadata": {
    "attributes": {
     "classes": [],
     "error": "FALSE",
     "id": "",
     "message": "FALSE,",
     "warning": "FALSE,"
    },
    "collapsed": false
   },
   "outputs": [
    {
     "name": "stdout",
     "output_type": "stream",
     "text": [
      "[1] \"student_id\" \"school_id\" \n"
     ]
    }
   ],
   "source": [
    "####################################\n",
    "# Generic data wrangling.\n",
    "\n",
    "# Initialise ignored variables: identifiers and risk.\n",
    "\n",
    "ignore <- union(id, if (exists(\"risk\")) risk) %T>% print()"
   ]
  },
  {
   "cell_type": "markdown",
   "metadata": {
    "anaconda-cloud": {},
    "kernelspec": {
     "display_name": "R",
     "language": "R",
     "name": "ir"
    },
    "language_info": {
     "codemirror_mode": "r",
     "file_extension": ".r",
     "mimetype": "text/x-r-source",
     "name": "R",
     "pygments_lexer": "r",
     "version": "3.2.2"
    }
   },
   "source": [
    "We might also identify any variable that has a unique value for every observation. These are sometimes identifiers as well and if so are candidates for ignoring."
   ]
  },
  {
   "cell_type": "code",
   "execution_count": 31,
   "metadata": {
    "attributes": {
     "classes": [],
     "error": "FALSE",
     "id": "",
     "message": "FALSE,",
     "warning": "FALSE,"
    },
    "collapsed": false
   },
   "outputs": [
    {
     "name": "stdout",
     "output_type": "stream",
     "text": [
      "[1] \"student_id\"\n",
      "[1] \"student_id\" \"school_id\" \n"
     ]
    }
   ],
   "source": [
    "# Heuristic for candidate identifiers to possibly ignore. \n",
    "\n",
    "ds[vars] %>%\n",
    "  sapply(function(x) x %>% unique() %>% length()) %>%\n",
    "  equals(nrow(ds)) %>%\n",
    "  which() %>%\n",
    "  names() %T>%\n",
    "  print() ->\n",
    "ids\n",
    "\n",
    "# Add them if any to the variables to be ignored for modelling.\n",
    "\n",
    "ignore <- union(ignore, ids) %T>% print()"
   ]
  },
  {
   "cell_type": "markdown",
   "metadata": {
    "anaconda-cloud": {},
    "kernelspec": {
     "display_name": "R",
     "language": "R",
     "name": "ir"
    },
    "language_info": {
     "codemirror_mode": "r",
     "file_extension": ".r",
     "mimetype": "text/x-r-source",
     "name": "R",
     "pygments_lexer": "r",
     "version": "3.2.2"
    }
   },
   "source": [
    "## All Missing\n",
    "\n",
    "We then remove any variable where all of the values are missing."
   ]
  },
  {
   "cell_type": "code",
   "execution_count": 32,
   "metadata": {
    "attributes": {
     "classes": [],
     "error": "FALSE",
     "id": "",
     "message": "FALSE,",
     "warning": "FALSE,"
    },
    "collapsed": false
   },
   "outputs": [
    {
     "name": "stdout",
     "output_type": "stream",
     "text": [
      "character(0)\n",
      "[1] \"student_id\" \"school_id\" \n"
     ]
    }
   ],
   "source": [
    "# Identify variables with only missing values.\n",
    "\n",
    "ds[vars] %>%\n",
    "  sapply(function(x) x %>% is.na %>% sum) %>%\n",
    "  equals(nrow(ds)) %>%\n",
    "  which() %>%\n",
    "  names() %T>%\n",
    "  print() ->\n",
    "missing\n",
    "\n",
    "# Add them if any to the variables to be ignored for modelling.\n",
    "\n",
    "ignore <- union(ignore, missing) %T>% print()"
   ]
  },
  {
   "cell_type": "markdown",
   "metadata": {
    "anaconda-cloud": {},
    "kernelspec": {
     "display_name": "R",
     "language": "R",
     "name": "ir"
    },
    "language_info": {
     "codemirror_mode": "r",
     "file_extension": ".r",
     "mimetype": "text/x-r-source",
     "name": "R",
     "pygments_lexer": "r",
     "version": "3.2.2"
    }
   },
   "source": [
    "## Many Missing\n",
    "\n",
    "Perhaps we also want to ignore variables with more than 70% of the values missing."
   ]
  },
  {
   "cell_type": "code",
   "execution_count": 33,
   "metadata": {
    "attributes": {
     "classes": [],
     "error": "FALSE",
     "id": "",
     "message": "FALSE,",
     "warning": "FALSE,"
    },
    "collapsed": false
   },
   "outputs": [
    {
     "name": "stdout",
     "output_type": "stream",
     "text": [
      "character(0)\n",
      "[1] \"student_id\" \"school_id\" \n"
     ]
    }
   ],
   "source": [
    "# Identify a threshold above which proportion missing is fatal.\n",
    "\n",
    "missing.threshold <- 0.7\n",
    "\n",
    "# Identify variables that are mostly missing.\n",
    "\n",
    "ds[vars] %>%\n",
    "  sapply(function(x) x %>% is.na() %>% sum()) %>%\n",
    "  '>'(missing.threshold*nrow(ds)) %>%\n",
    "  which() %>%\n",
    "  names() %T>%\n",
    "  print() ->\n",
    "mostly\n",
    "\n",
    "# Add them if any to the variables to be ignored for modelling.\n",
    "\n",
    "ignore <- union(ignore, mostly) %T>% print()"
   ]
  },
  {
   "cell_type": "markdown",
   "metadata": {
    "anaconda-cloud": {},
    "kernelspec": {
     "display_name": "R",
     "language": "R",
     "name": "ir"
    },
    "language_info": {
     "codemirror_mode": "r",
     "file_extension": ".r",
     "mimetype": "text/x-r-source",
     "name": "R",
     "pygments_lexer": "r",
     "version": "3.2.2"
    }
   },
   "source": [
    "# Step 3.2: Clean - Ignore MultiLevel, Constants\n",
    "\n",
    "## Too Many Levels\n",
    "\n",
    "We might also want to ignore variables with too many levels."
   ]
  },
  {
   "cell_type": "code",
   "execution_count": 34,
   "metadata": {
    "attributes": {
     "classes": [],
     "error": "FALSE",
     "id": "",
     "message": "FALSE,",
     "warning": "FALSE,"
    },
    "collapsed": false
   },
   "outputs": [
    {
     "name": "stdout",
     "output_type": "stream",
     "text": [
      "[1] \"school_id\"\n",
      "[1] \"student_id\" \"school_id\" \n"
     ]
    }
   ],
   "source": [
    "# Identify a threshold above which we have too many levels.\n",
    "\n",
    "levels.threshold <- 20\n",
    "\n",
    "# Identify variables that have too many levels.\n",
    "\n",
    "ds[vars] %>%\n",
    "  sapply(is.factor) %>%\n",
    "  which() %>%\n",
    "  names() %>%\n",
    "  sapply(function(x) ds %>% extract2(x) %>% levels() %>% length()) %>%\n",
    "  '>='(levels.threshold) %>%\n",
    "  which() %>%\n",
    "  names() %T>%\n",
    "  print() ->\n",
    "too.many\n",
    "\n",
    "# Add them if any to the variables to be ignored for modelling.\n",
    "\n",
    "ignore <- union(ignore, too.many) %T>% print()"
   ]
  },
  {
   "cell_type": "markdown",
   "metadata": {
    "anaconda-cloud": {},
    "kernelspec": {
     "display_name": "R",
     "language": "R",
     "name": "ir"
    },
    "language_info": {
     "codemirror_mode": "r",
     "file_extension": ".r",
     "mimetype": "text/x-r-source",
     "name": "R",
     "pygments_lexer": "r",
     "version": "3.2.2"
    }
   },
   "source": [
    "## Constants\n",
    "\n",
    "We ingore variables with constant values as well."
   ]
  },
  {
   "cell_type": "code",
   "execution_count": 35,
   "metadata": {
    "attributes": {
     "classes": [],
     "error": "FALSE",
     "id": "",
     "message": "FALSE,",
     "warning": "FALSE,"
    },
    "collapsed": false
   },
   "outputs": [
    {
     "name": "stdout",
     "output_type": "stream",
     "text": [
      "character(0)\n",
      "[1] \"student_id\" \"school_id\" \n"
     ]
    }
   ],
   "source": [
    "# Identify variables that have a single value.\n",
    "\n",
    "ds[vars] %>%\n",
    "  sapply(function(x) all(x == x[1L])) %>%\n",
    "  which() %>%\n",
    "  names() %T>%\n",
    "  print() ->\n",
    "constants \n",
    "\n",
    "# Add them if any to the variables to be ignored for modelling.\n",
    "\n",
    "ignore <- union(ignore, constants) %T>% print()"
   ]
  },
  {
   "cell_type": "markdown",
   "metadata": {
    "anaconda-cloud": {},
    "kernelspec": {
     "display_name": "R",
     "language": "R",
     "name": "ir"
    },
    "language_info": {
     "codemirror_mode": "r",
     "file_extension": ".r",
     "mimetype": "text/x-r-source",
     "name": "R",
     "pygments_lexer": "r",
     "version": "3.2.2"
    }
   },
   "source": [
    "# Step 3.3: Clean - Ignore Correlated Varaibles\n",
    "\n",
    "Within all the numeric varaibles, we can identify pairs where we want to keep one but not the other, because they are highly correlated. We will select them manually since it is a judgement call. Normally we might limit the removals to those correlations that are 0.95 or more. In this case, there does not exist a collinearity."
   ]
  },
  {
   "cell_type": "code",
   "execution_count": 36,
   "metadata": {
    "attributes": {
     "classes": [],
     "error": "FALSE",
     "id": "",
     "message": "FALSE,",
     "warning": "FALSE,"
    },
    "collapsed": false
   },
   "outputs": [
    {
     "name": "stdout",
     "output_type": "stream",
     "text": [
      "[1] \"mathematics_marks\"  \"english_marks\"      \"science_marks\"     \n",
      "[4] \"science_teacher\"    \"languages_teacher\"  \"total_students\"    \n",
      "[7] \"total_toilets\"      \"establishment_year\"\n"
     ]
    }
   ],
   "source": [
    "# Note which variables are numeric.\n",
    "\n",
    "vars %>%\n",
    "  setdiff(ignore) %>%\n",
    "  '['(ds, .) %>%\n",
    "  sapply(is.numeric) %>% \n",
    "  which() %>%\n",
    "  names() %T>%\n",
    "  print() ->\n",
    "numc"
   ]
  },
  {
   "cell_type": "code",
   "execution_count": 37,
   "metadata": {
    "attributes": {
     "classes": [],
     "error": "FALSE",
     "id": "",
     "message": "FALSE,",
     "warning": "FALSE,"
    },
    "collapsed": false
   },
   "outputs": [
    {
     "name": "stdout",
     "output_type": "stream",
     "text": [
      "# A tibble: 28 x 3\n",
      "                 var1              var2        cor\n",
      "                <chr>             <chr>      <dbl>\n",
      "1       science_marks mathematics_marks 1.00000000\n",
      "2       english_marks mathematics_marks 0.54978698\n",
      "3       science_marks     english_marks 0.54978698\n",
      "4       total_toilets    total_students 0.30231358\n",
      "5  establishment_year     total_toilets 0.16805996\n",
      "6     science_teacher mathematics_marks 0.03872271\n",
      "7     science_teacher     science_marks 0.03872271\n",
      "8  establishment_year    total_students 0.03666162\n",
      "9     science_teacher     english_marks 0.03473078\n",
      "10  languages_teacher     english_marks 0.02543076\n",
      "# ... with 18 more rows\n"
     ]
    }
   ],
   "source": [
    "# For the numeric variables generate a table of correlations\n",
    "\n",
    "ds[numc] %>%\n",
    "  cor(use=\"complete.obs\") %>%\n",
    "  ifelse(upper.tri(., diag=TRUE), NA, .) %>% \n",
    "  abs %>% \n",
    "  data.frame %>%\n",
    "  tbl_df %>%\n",
    "  set_colnames(numc) %>%\n",
    "  mutate(var1=numc) %>% \n",
    "  gather(var2, cor, -var1) %>% \n",
    "  na.omit %>%\n",
    "  arrange(-abs(cor)) %T>%\n",
    "  print() ->\n",
    "mc"
   ]
  },
  {
   "cell_type": "code",
   "execution_count": 38,
   "metadata": {
    "attributes": {
     "classes": [],
     "error": "FALSE",
     "id": "",
     "message": "FALSE,",
     "warning": "FALSE,"
    },
    "collapsed": false
   },
   "outputs": [
    {
     "name": "stdout",
     "output_type": "stream",
     "text": [
      "[1] \"student_id\" \"school_id\" \n"
     ]
    }
   ],
   "source": [
    "# Any variables could be removed because highly correlated?\n",
    "\n",
    "ignore <- union(ignore, NULL) %T>% print()"
   ]
  },
  {
   "cell_type": "markdown",
   "metadata": {
    "anaconda-cloud": {},
    "kernelspec": {
     "display_name": "R",
     "language": "R",
     "name": "ir"
    },
    "language_info": {
     "codemirror_mode": "r",
     "file_extension": ".r",
     "mimetype": "text/x-r-source",
     "name": "R",
     "pygments_lexer": "r",
     "version": "3.2.2"
    }
   },
   "source": [
    "# Step 3.4: Clean - Remove the Ignored Variables\n",
    "\n",
    "Once we have identified the variables to ignore, we remove them from our list of variables to use."
   ]
  },
  {
   "cell_type": "code",
   "execution_count": 39,
   "metadata": {
    "attributes": {
     "classes": [],
     "error": "FALSE",
     "id": "",
     "message": "FALSE,",
     "warning": "FALSE,"
    },
    "collapsed": false
   },
   "outputs": [
    {
     "data": {
      "text/html": [
       "15"
      ],
      "text/latex": [
       "15"
      ],
      "text/markdown": [
       "15"
      ],
      "text/plain": [
       "[1] 15"
      ]
     },
     "metadata": {},
     "output_type": "display_data"
    }
   ],
   "source": [
    "# Check the number of variables currently.\n",
    "\n",
    "length(vars)"
   ]
  },
  {
   "cell_type": "code",
   "execution_count": 40,
   "metadata": {
    "attributes": {
     "classes": [],
     "error": "FALSE",
     "id": "",
     "message": "FALSE,",
     "warning": "FALSE,"
    },
    "collapsed": false
   },
   "outputs": [
    {
     "name": "stdout",
     "output_type": "stream",
     "text": [
      " [1] \"continue_drop\"      \"gender\"             \"caste\"             \n",
      " [4] \"mathematics_marks\"  \"english_marks\"      \"science_marks\"     \n",
      " [7] \"science_teacher\"    \"languages_teacher\"  \"guardian\"          \n",
      "[10] \"internet\"           \"total_students\"     \"total_toilets\"     \n",
      "[13] \"establishment_year\"\n"
     ]
    }
   ],
   "source": [
    "# Remove the variables to ignore.\n",
    "\n",
    "vars <- setdiff(vars, ignore) %T>% print()"
   ]
  },
  {
   "cell_type": "code",
   "execution_count": 41,
   "metadata": {
    "attributes": {
     "classes": [],
     "error": "FALSE",
     "id": "",
     "message": "FALSE,",
     "warning": "FALSE,"
    },
    "collapsed": false
   },
   "outputs": [
    {
     "data": {
      "text/html": [
       "13"
      ],
      "text/latex": [
       "13"
      ],
      "text/markdown": [
       "13"
      ],
      "text/plain": [
       "[1] 13"
      ]
     },
     "metadata": {},
     "output_type": "display_data"
    }
   ],
   "source": [
    "# Confirm they are now ignored.\n",
    "\n",
    "length(vars)"
   ]
  },
  {
   "cell_type": "markdown",
   "metadata": {
    "anaconda-cloud": {},
    "kernelspec": {
     "display_name": "R",
     "language": "R",
     "name": "ir"
    },
    "language_info": {
     "codemirror_mode": "r",
     "file_extension": ".r",
     "mimetype": "text/x-r-source",
     "name": "R",
     "pygments_lexer": "r",
     "version": "3.2.2"
    }
   },
   "source": [
    "# Step 3.5: Clean - Feature Selection\n",
    "\n",
    "The FSelector (Romanski, 2013) package provides functions to identify subsets of variables that might be more effective for modelling. For example, we can use correlation search function cfs() to identify key variables and thus decide which variables to retain."
   ]
  },
  {
   "cell_type": "code",
   "execution_count": 42,
   "metadata": {
    "attributes": {
     "classes": [],
     "error": "FALSE,",
     "eval": "FALSE",
     "id": "",
     "message": "FALSE,",
     "warning": "FALSE,"
    },
    "collapsed": false
   },
   "outputs": [
    {
     "name": "stdout",
     "output_type": "stream",
     "text": [
      "continue_drop ~ .\n"
     ]
    }
   ],
   "source": [
    "####################################\n",
    "# Variable Selection\n",
    "\n",
    "# Formula for modelling.\n",
    "\n",
    "form <- formula(target %s+% \" ~ .\") %T>% print()"
   ]
  },
  {
   "cell_type": "code",
   "execution_count": 46,
   "metadata": {
    "attributes": {
     "classes": [],
     "error": "FALSE",
     "id": "",
     "message": "FALSE,",
     "warning": "FALSE,"
    },
    "collapsed": false
   },
   "outputs": [],
   "source": [
    "# Use correlation search to identify key variables.\n",
    "# Could be useful to decide which variables to retain.\n",
    "# (need FSelector to be loaded)\n",
    "\n",
    "# cfs(form, ds[vars])"
   ]
  },
  {
   "cell_type": "code",
   "execution_count": 47,
   "metadata": {
    "attributes": {
     "classes": [],
     "error": "FALSE",
     "id": "",
     "message": "FALSE,",
     "warning": "FALSE,"
    },
    "collapsed": false
   },
   "outputs": [
    {
     "name": "stdout",
     "output_type": "stream",
     "text": [
      " [1] \"continue_drop\"      \"gender\"             \"caste\"             \n",
      " [4] \"mathematics_marks\"  \"english_marks\"      \"science_marks\"     \n",
      " [7] \"science_teacher\"    \"languages_teacher\"  \"guardian\"          \n",
      "[10] \"internet\"           \"total_students\"     \"total_toilets\"     \n",
      "[13] \"establishment_year\"\n"
     ]
    }
   ],
   "source": [
    "# Any variables to remove because not useful?\n",
    "\n",
    "vars %<>% setdiff(NULL) %T>% print()"
   ]
  },
  {
   "cell_type": "markdown",
   "metadata": {
    "anaconda-cloud": {},
    "kernelspec": {
     "display_name": "R",
     "language": "R",
     "name": "ir"
    },
    "language_info": {
     "codemirror_mode": "r",
     "file_extension": ".r",
     "mimetype": "text/x-r-source",
     "name": "R",
     "pygments_lexer": "r",
     "version": "3.2.2"
    }
   },
   "source": [
    "Or, we can use the function information.gain() to identify varaible importance and decide which varaibles to remove."
   ]
  },
  {
   "cell_type": "code",
   "execution_count": 48,
   "metadata": {
    "attributes": {
     "classes": [],
     "error": "FALSE",
     "id": "",
     "message": "FALSE,",
     "warning": "FALSE,"
    },
    "collapsed": false
   },
   "outputs": [],
   "source": [
    "# Use information gain to identify variable importance.\n",
    "# (need FSelector to be loaded)\n",
    "\n",
    "#information.gain(form, ds[vars]) %>%\n",
    "#  rownames_to_column() %>%\n",
    "#  arrange(attr_importance)\n",
    "\n",
    "# Any variables to remove because not useful?\n",
    "\n",
    "#vars %<>% setdiff(NULL)"
   ]
  },
  {
   "cell_type": "markdown",
   "metadata": {
    "anaconda-cloud": {},
    "kernelspec": {
     "display_name": "R",
     "language": "R",
     "name": "ir"
    },
    "language_info": {
     "codemirror_mode": "r",
     "file_extension": ".r",
     "mimetype": "text/x-r-source",
     "name": "R",
     "pygments_lexer": "r",
     "version": "3.2.2"
    }
   },
   "source": [
    "# Step 3.6: Clean - Remove Missing Target\n",
    "\n",
    "In addition to varaibles, sometimes there may be further cleansing with the observations. Here, we remove observations with a missing target first."
   ]
  },
  {
   "cell_type": "code",
   "execution_count": 49,
   "metadata": {
    "attributes": {
     "classes": [],
     "error": "FALSE",
     "id": "",
     "message": "FALSE,",
     "warning": "FALSE,"
    },
    "collapsed": false
   },
   "outputs": [
    {
     "name": "stdout",
     "output_type": "stream",
     "text": [
      "19,100     15 \n"
     ]
    }
   ],
   "source": [
    "####################################\n",
    "# Continue Wrangling\n",
    "\n",
    "# Check the dimensions to start with.\n",
    "\n",
    "dim(ds) %>% echo()"
   ]
  },
  {
   "cell_type": "code",
   "execution_count": 50,
   "metadata": {
    "attributes": {
     "classes": [],
     "error": "FALSE",
     "id": "",
     "message": "FALSE,",
     "warning": "FALSE,"
    },
    "collapsed": false
   },
   "outputs": [
    {
     "name": "stdout",
     "output_type": "stream",
     "text": [
      "[1] 0\n"
     ]
    }
   ],
   "source": [
    "# Identify observations with a missing target.\n",
    "\n",
    "ds %>% \n",
    "  extract2(target) %>% \n",
    "  is.na() %T>%\n",
    "  {sum(.) %>% print()} ->\n",
    "missing.target "
   ]
  },
  {
   "cell_type": "code",
   "execution_count": 51,
   "metadata": {
    "attributes": {
     "classes": [],
     "error": "FALSE",
     "id": "",
     "message": "FALSE,",
     "warning": "FALSE,"
    },
    "collapsed": false
   },
   "outputs": [
    {
     "name": "stdout",
     "output_type": "stream",
     "text": [
      "19,100     15 \n"
     ]
    }
   ],
   "source": [
    "# Remove observations with a missing target.\n",
    "\n",
    "ds %<>% filter(!missing.target)\n",
    "\n",
    "# Confirm the filter delivered the expected dataset.\n",
    "\n",
    "dim(ds) %>% echo()"
   ]
  },
  {
   "cell_type": "markdown",
   "metadata": {
    "anaconda-cloud": {},
    "kernelspec": {
     "display_name": "R",
     "language": "R",
     "name": "ir"
    },
    "language_info": {
     "codemirror_mode": "r",
     "file_extension": ".r",
     "mimetype": "text/x-r-source",
     "name": "R",
     "pygments_lexer": "r",
     "version": "3.2.2"
    }
   },
   "source": [
    "# Step 3.7: Clean - Deal with Missing Values\n",
    "\n",
    "To clean observatons with missing predictors, we can impute missing values in the data by using na.roughfix() from package randomForest (Breiman et al, 2012)."
   ]
  },
  {
   "cell_type": "code",
   "execution_count": 52,
   "metadata": {
    "attributes": {
     "classes": [],
     "error": "FALSE",
     "id": "",
     "message": "FALSE,",
     "warning": "FALSE,"
    },
    "collapsed": false
   },
   "outputs": [
    {
     "name": "stdout",
     "output_type": "stream",
     "text": [
      "676 \n"
     ]
    }
   ],
   "source": [
    "####################################\n",
    "## Optional missing value imputation.\n",
    "\n",
    "# Count the number of missing values.\n",
    "\n",
    "ds[vars] %>%  is.na() %>% sum() %>% echo()"
   ]
  },
  {
   "cell_type": "code",
   "execution_count": 53,
   "metadata": {
    "attributes": {
     "classes": [],
     "error": "FALSE",
     "id": "",
     "message": "FALSE,",
     "warning": "FALSE,"
    },
    "collapsed": true
   },
   "outputs": [],
   "source": [
    "# Impute missing values.\n",
    "\n",
    "ds[vars] %<>% na.roughfix()"
   ]
  },
  {
   "cell_type": "code",
   "execution_count": 54,
   "metadata": {
    "attributes": {
     "classes": [],
     "error": "FALSE",
     "id": "",
     "message": "FALSE,",
     "warning": "FALSE,"
    },
    "collapsed": false
   },
   "outputs": [
    {
     "name": "stdout",
     "output_type": "stream",
     "text": [
      "0 \n"
     ]
    }
   ],
   "source": [
    "# Confirm that no missing values remain.\n",
    "\n",
    "ds[vars] %>%  is.na() %>% sum() %>% echo()"
   ]
  },
  {
   "cell_type": "markdown",
   "metadata": {
    "anaconda-cloud": {},
    "kernelspec": {
     "display_name": "R",
     "language": "R",
     "name": "ir"
    },
    "language_info": {
     "codemirror_mode": "r",
     "file_extension": ".r",
     "mimetype": "text/x-r-source",
     "name": "R",
     "pygments_lexer": "r",
     "version": "3.2.2"
    }
   },
   "source": [
    "Alternatively, we can simply remove observations that have missing values. Here na.omit() identifies the rows to omit based on the vars to be included for modelling. This list of rows to omit is stored as the na.action attribute of the returned object. We then remove these observations from the dataset."
   ]
  },
  {
   "cell_type": "code",
   "execution_count": 55,
   "metadata": {
    "attributes": {
     "classes": [],
     "error": "FALSE",
     "id": "",
     "message": "FALSE,",
     "warning": "FALSE,"
    },
    "collapsed": false
   },
   "outputs": [
    {
     "name": "stdout",
     "output_type": "stream",
     "text": [
      "19,100 \n",
      "0 \n"
     ]
    }
   ],
   "source": [
    "####################################\n",
    "# Optional remove observations with missing values.\n",
    "\n",
    "# Initialise the list of observations to be removed.\n",
    "\n",
    "omit <- NULL\n",
    "\n",
    "# Review the current dataset.\n",
    "\n",
    "ds[vars] %>% nrow() %>% echo()\n",
    "ds[vars] %>% is.na() %>% sum() %>% echo()"
   ]
  },
  {
   "cell_type": "code",
   "execution_count": 56,
   "metadata": {
    "attributes": {
     "classes": [],
     "error": "FALSE",
     "id": "",
     "message": "FALSE,",
     "warning": "FALSE,"
    },
    "collapsed": false
   },
   "outputs": [
    {
     "name": "stdout",
     "output_type": "stream",
     "text": [
      "NULL\n"
     ]
    }
   ],
   "source": [
    "# Identify any observations with missing values.\n",
    "\n",
    "ds[vars] %>%\n",
    "  na.omit() %>%\n",
    "  attr(\"na.action\") %T>%\n",
    "  print() ->\n",
    "mo"
   ]
  },
  {
   "cell_type": "code",
   "execution_count": 57,
   "metadata": {
    "attributes": {
     "classes": [],
     "error": "FALSE",
     "id": "",
     "message": "FALSE,",
     "warning": "FALSE,"
    },
    "collapsed": false
   },
   "outputs": [
    {
     "name": "stdout",
     "output_type": "stream",
     "text": [
      "[1] 0\n"
     ]
    }
   ],
   "source": [
    "# Record the observations to omit.\n",
    "\n",
    "omit <- union(omit, mo) %T>% {length(.) %>% print()}"
   ]
  },
  {
   "cell_type": "code",
   "execution_count": 58,
   "metadata": {
    "attributes": {
     "classes": [],
     "error": "FALSE",
     "id": "",
     "message": "FALSE,",
     "warning": "FALSE,"
    },
    "collapsed": false
   },
   "outputs": [
    {
     "name": "stdout",
     "output_type": "stream",
     "text": [
      "19,100 \n",
      "0 \n"
     ]
    }
   ],
   "source": [
    "# If there are observations to omit then remove them.\n",
    "\n",
    "if (length(omit)) ds <- ds[-omit,]\n",
    "\n",
    "# Confirm the observations have been removed.\n",
    "\n",
    "ds[vars] %>% nrow() %>% echo()\n",
    "ds[vars] %>% is.na() %>% sum() %>% echo()"
   ]
  },
  {
   "cell_type": "markdown",
   "metadata": {
    "anaconda-cloud": {},
    "kernelspec": {
     "display_name": "R",
     "language": "R",
     "name": "ir"
    },
    "language_info": {
     "codemirror_mode": "r",
     "file_extension": ".r",
     "mimetype": "text/x-r-source",
     "name": "R",
     "pygments_lexer": "r",
     "version": "3.2.2"
    }
   },
   "source": [
    "# Step 3.8: Clean - Normalise Factors\n",
    "\n",
    "Some variables will have levels with spaces, and mixture of cases, etc. We may like to normalise the levels for each of the categoric variables."
   ]
  },
  {
   "cell_type": "code",
   "execution_count": 59,
   "metadata": {
    "attributes": {
     "classes": [],
     "error": "FALSE",
     "id": "",
     "message": "FALSE,",
     "warning": "FALSE,"
    },
    "collapsed": false
   },
   "outputs": [
    {
     "name": "stdout",
     "output_type": "stream",
     "text": [
      "[1] \"continue_drop\" \"gender\"        \"caste\"         \"guardian\"     \n",
      "[5] \"internet\"     \n"
     ]
    }
   ],
   "source": [
    "####################################\n",
    "# Normalise factors.\n",
    "\n",
    "# Note which variables are categoric.\n",
    "\n",
    "ds[vars] %>%\n",
    "  sapply(is.factor) %>%\n",
    "  which() %>%\n",
    "  names() %T>%\n",
    "  print() ->\n",
    "catc"
   ]
  },
  {
   "cell_type": "code",
   "execution_count": 60,
   "metadata": {
    "attributes": {
     "classes": [],
     "error": "FALSE",
     "id": "",
     "message": "FALSE,",
     "warning": "FALSE,"
    },
    "collapsed": false
   },
   "outputs": [
    {
     "data": {
      "text/html": [
       "<dl>\n",
       "\t<dt>$continue_drop</dt>\n",
       "\t\t<dd><ol class=list-inline>\n",
       "\t<li>'continue'</li>\n",
       "\t<li>'drop'</li>\n",
       "</ol>\n",
       "</dd>\n",
       "\t<dt>$gender</dt>\n",
       "\t\t<dd><ol class=list-inline>\n",
       "\t<li>'F'</li>\n",
       "\t<li>'M'</li>\n",
       "</ol>\n",
       "</dd>\n",
       "\t<dt>$caste</dt>\n",
       "\t\t<dd><ol class=list-inline>\n",
       "\t<li>'BC'</li>\n",
       "\t<li>'OC'</li>\n",
       "\t<li>'SC'</li>\n",
       "\t<li>'ST'</li>\n",
       "</ol>\n",
       "</dd>\n",
       "\t<dt>$guardian</dt>\n",
       "\t\t<dd><ol class=list-inline>\n",
       "\t<li>'father'</li>\n",
       "\t<li>'mixed'</li>\n",
       "\t<li>'mother'</li>\n",
       "\t<li>'other'</li>\n",
       "</ol>\n",
       "</dd>\n",
       "\t<dt>$internet</dt>\n",
       "\t\t<dd><ol class=list-inline>\n",
       "\t<li>'FALSE'</li>\n",
       "\t<li>'TRUE'</li>\n",
       "</ol>\n",
       "</dd>\n",
       "</dl>\n"
      ],
      "text/latex": [
       "\\begin{description}\n",
       "\\item[\\$continue\\_drop] \\begin{enumerate*}\n",
       "\\item 'continue'\n",
       "\\item 'drop'\n",
       "\\end{enumerate*}\n",
       "\n",
       "\\item[\\$gender] \\begin{enumerate*}\n",
       "\\item 'F'\n",
       "\\item 'M'\n",
       "\\end{enumerate*}\n",
       "\n",
       "\\item[\\$caste] \\begin{enumerate*}\n",
       "\\item 'BC'\n",
       "\\item 'OC'\n",
       "\\item 'SC'\n",
       "\\item 'ST'\n",
       "\\end{enumerate*}\n",
       "\n",
       "\\item[\\$guardian] \\begin{enumerate*}\n",
       "\\item 'father'\n",
       "\\item 'mixed'\n",
       "\\item 'mother'\n",
       "\\item 'other'\n",
       "\\end{enumerate*}\n",
       "\n",
       "\\item[\\$internet] \\begin{enumerate*}\n",
       "\\item 'FALSE'\n",
       "\\item 'TRUE'\n",
       "\\end{enumerate*}\n",
       "\n",
       "\\end{description}\n"
      ],
      "text/markdown": [
       "$continue_drop\n",
       ":   1. 'continue'\n",
       "2. 'drop'\n",
       "\n",
       "\n",
       "\n",
       "$gender\n",
       ":   1. 'F'\n",
       "2. 'M'\n",
       "\n",
       "\n",
       "\n",
       "$caste\n",
       ":   1. 'BC'\n",
       "2. 'OC'\n",
       "3. 'SC'\n",
       "4. 'ST'\n",
       "\n",
       "\n",
       "\n",
       "$guardian\n",
       ":   1. 'father'\n",
       "2. 'mixed'\n",
       "3. 'mother'\n",
       "4. 'other'\n",
       "\n",
       "\n",
       "\n",
       "$internet\n",
       ":   1. 'FALSE'\n",
       "2. 'TRUE'\n",
       "\n",
       "\n",
       "\n",
       "\n",
       "\n"
      ],
      "text/plain": [
       "$continue_drop\n",
       "[1] \"continue\" \"drop\"    \n",
       "\n",
       "$gender\n",
       "[1] \"F\" \"M\"\n",
       "\n",
       "$caste\n",
       "[1] \"BC\" \"OC\" \"SC\" \"ST\"\n",
       "\n",
       "$guardian\n",
       "[1] \"father\" \"mixed\"  \"mother\" \"other\" \n",
       "\n",
       "$internet\n",
       "[1] \"FALSE\" \"TRUE\" \n"
      ]
     },
     "metadata": {},
     "output_type": "display_data"
    }
   ],
   "source": [
    "# Check the levels.\n",
    "\n",
    "ds[catc] %>% sapply(levels)"
   ]
  },
  {
   "cell_type": "code",
   "execution_count": 61,
   "metadata": {
    "attributes": {
     "classes": [],
     "error": "FALSE",
     "id": "",
     "message": "FALSE,",
     "warning": "FALSE,"
    },
    "collapsed": false
   },
   "outputs": [
    {
     "data": {
      "text/html": [
       "<dl>\n",
       "\t<dt>$continue_drop</dt>\n",
       "\t\t<dd><ol class=list-inline>\n",
       "\t<li>'continue'</li>\n",
       "\t<li>'drop'</li>\n",
       "</ol>\n",
       "</dd>\n",
       "\t<dt>$gender</dt>\n",
       "\t\t<dd><ol class=list-inline>\n",
       "\t<li>'f'</li>\n",
       "\t<li>'m'</li>\n",
       "</ol>\n",
       "</dd>\n",
       "\t<dt>$caste</dt>\n",
       "\t\t<dd><ol class=list-inline>\n",
       "\t<li>'bc'</li>\n",
       "\t<li>'oc'</li>\n",
       "\t<li>'sc'</li>\n",
       "\t<li>'st'</li>\n",
       "</ol>\n",
       "</dd>\n",
       "\t<dt>$guardian</dt>\n",
       "\t\t<dd><ol class=list-inline>\n",
       "\t<li>'father'</li>\n",
       "\t<li>'mixed'</li>\n",
       "\t<li>'mother'</li>\n",
       "\t<li>'other'</li>\n",
       "</ol>\n",
       "</dd>\n",
       "\t<dt>$internet</dt>\n",
       "\t\t<dd><ol class=list-inline>\n",
       "\t<li>'false'</li>\n",
       "\t<li>'true'</li>\n",
       "</ol>\n",
       "</dd>\n",
       "</dl>\n"
      ],
      "text/latex": [
       "\\begin{description}\n",
       "\\item[\\$continue\\_drop] \\begin{enumerate*}\n",
       "\\item 'continue'\n",
       "\\item 'drop'\n",
       "\\end{enumerate*}\n",
       "\n",
       "\\item[\\$gender] \\begin{enumerate*}\n",
       "\\item 'f'\n",
       "\\item 'm'\n",
       "\\end{enumerate*}\n",
       "\n",
       "\\item[\\$caste] \\begin{enumerate*}\n",
       "\\item 'bc'\n",
       "\\item 'oc'\n",
       "\\item 'sc'\n",
       "\\item 'st'\n",
       "\\end{enumerate*}\n",
       "\n",
       "\\item[\\$guardian] \\begin{enumerate*}\n",
       "\\item 'father'\n",
       "\\item 'mixed'\n",
       "\\item 'mother'\n",
       "\\item 'other'\n",
       "\\end{enumerate*}\n",
       "\n",
       "\\item[\\$internet] \\begin{enumerate*}\n",
       "\\item 'false'\n",
       "\\item 'true'\n",
       "\\end{enumerate*}\n",
       "\n",
       "\\end{description}\n"
      ],
      "text/markdown": [
       "$continue_drop\n",
       ":   1. 'continue'\n",
       "2. 'drop'\n",
       "\n",
       "\n",
       "\n",
       "$gender\n",
       ":   1. 'f'\n",
       "2. 'm'\n",
       "\n",
       "\n",
       "\n",
       "$caste\n",
       ":   1. 'bc'\n",
       "2. 'oc'\n",
       "3. 'sc'\n",
       "4. 'st'\n",
       "\n",
       "\n",
       "\n",
       "$guardian\n",
       ":   1. 'father'\n",
       "2. 'mixed'\n",
       "3. 'mother'\n",
       "4. 'other'\n",
       "\n",
       "\n",
       "\n",
       "$internet\n",
       ":   1. 'false'\n",
       "2. 'true'\n",
       "\n",
       "\n",
       "\n",
       "\n",
       "\n"
      ],
      "text/plain": [
       "$continue_drop\n",
       "[1] \"continue\" \"drop\"    \n",
       "\n",
       "$gender\n",
       "[1] \"f\" \"m\"\n",
       "\n",
       "$caste\n",
       "[1] \"bc\" \"oc\" \"sc\" \"st\"\n",
       "\n",
       "$guardian\n",
       "[1] \"father\" \"mixed\"  \"mother\" \"other\" \n",
       "\n",
       "$internet\n",
       "[1] \"false\" \"true\" \n"
      ]
     },
     "metadata": {},
     "output_type": "display_data"
    }
   ],
   "source": [
    "# Normalise the levels of all categoric variables.\n",
    "\n",
    "for (v in catc) \n",
    "  levels(ds[[v]]) %<>% normVarNames()\n",
    "\n",
    "# Review the levels.\n",
    "\n",
    "ds[catc] %>% sapply(levels)"
   ]
  },
  {
   "cell_type": "markdown",
   "metadata": {
    "anaconda-cloud": {},
    "kernelspec": {
     "display_name": "R",
     "language": "R",
     "name": "ir"
    },
    "language_info": {
     "codemirror_mode": "r",
     "file_extension": ".r",
     "mimetype": "text/x-r-source",
     "name": "R",
     "pygments_lexer": "r",
     "version": "3.2.2"
    }
   },
   "source": [
    "# Step 3.9: Clean - Ensure Target is Numeric\n",
    "\n",
    "For classification models, we want to ensure the target is factor."
   ]
  },
  {
   "cell_type": "code",
   "execution_count": 62,
   "metadata": {
    "attributes": {
     "classes": [],
     "error": "FALSE",
     "id": "",
     "message": "FALSE,",
     "warning": "FALSE,"
    },
    "collapsed": false
   },
   "outputs": [
    {
     "data": {
      "text/html": [
       "'factor'"
      ],
      "text/latex": [
       "'factor'"
      ],
      "text/markdown": [
       "'factor'"
      ],
      "text/plain": [
       "[1] \"factor\""
      ]
     },
     "metadata": {},
     "output_type": "display_data"
    },
    {
     "data": {
      "text/plain": [
       "  continue_drop  \n",
       " continue:18200  \n",
       " drop    :  900  "
      ]
     },
     "metadata": {},
     "output_type": "display_data"
    }
   ],
   "source": [
    "# Ensure the target is factor.\n",
    "\n",
    "class(ds[[target]])\n",
    "\n",
    "ds[[target]] %<>% as.factor()\n",
    "\n",
    "# Confirm the distribution.\n",
    "\n",
    "ds[target] %>% summary()"
   ]
  },
  {
   "cell_type": "markdown",
   "metadata": {
    "anaconda-cloud": {},
    "kernelspec": {
     "display_name": "R",
     "language": "R",
     "name": "ir"
    },
    "language_info": {
     "codemirror_mode": "r",
     "file_extension": ".r",
     "mimetype": "text/x-r-source",
     "name": "R",
     "pygments_lexer": "r",
     "version": "3.2.2"
    }
   },
   "source": [
    "Here, we visualise the distribution of the target variable using ggplot2."
   ]
  },
  {
   "cell_type": "code",
   "execution_count": 64,
   "metadata": {
    "attributes": {
     "classes": [],
     "error": "FALSE",
     "id": "",
     "message": "FALSE,",
     "warning": "FALSE,"
    },
    "collapsed": false
   },
   "outputs": [
    {
     "data": {
      "image/png": "[encoded data removed]",
      "text/plain": [
       "plot without title"
      ]
     },
     "metadata": {},
     "output_type": "display_data"
    }
   ],
   "source": [
    "p <- ggplot(ds, aes_string(x=target))\n",
    "p <- p + geom_bar(width=0.2)\n",
    "print(p)"
   ]
  },
  {
   "cell_type": "markdown",
   "metadata": {
    "anaconda-cloud": {},
    "kernelspec": {
     "display_name": "R",
     "language": "R",
     "name": "ir"
    },
    "language_info": {
     "codemirror_mode": "r",
     "file_extension": ".r",
     "mimetype": "text/x-r-source",
     "name": "R",
     "pygments_lexer": "r",
     "version": "3.2.2"
    }
   },
   "source": [
    "# Step 4.1: Prepare - Variable\n",
    "\n",
    "We are now ready to identify the variables that we will use to build the model. Previously we identified the variable roles. Now we identify those that we wish to model. We begin with the model input variables, identifying them as a vector of characters (the variable name) and a vector of integers (the variable index)."
   ]
  },
  {
   "cell_type": "code",
   "execution_count": 65,
   "metadata": {
    "attributes": {
     "classes": [],
     "error": "FALSE",
     "id": "",
     "message": "FALSE,",
     "warning": "FALSE,"
    },
    "collapsed": false
   },
   "outputs": [
    {
     "name": "stdout",
     "output_type": "stream",
     "text": [
      " [1] \"gender\"             \"caste\"              \"mathematics_marks\" \n",
      " [4] \"english_marks\"      \"science_marks\"      \"science_teacher\"   \n",
      " [7] \"languages_teacher\"  \"guardian\"           \"internet\"          \n",
      "[10] \"total_students\"     \"total_toilets\"      \"establishment_year\"\n"
     ]
    }
   ],
   "source": [
    "########################################################################\n",
    "# VARIABLE ROLES\n",
    "\n",
    "# Identify the input variables by name.\n",
    "\n",
    "inputs <- setdiff(vars, target) %T>% print()"
   ]
  },
  {
   "cell_type": "code",
   "execution_count": 66,
   "metadata": {
    "attributes": {
     "classes": [],
     "error": "FALSE",
     "id": "",
     "message": "FALSE,",
     "warning": "FALSE,"
    },
    "collapsed": false
   },
   "outputs": [
    {
     "name": "stdout",
     "output_type": "stream",
     "text": [
      " [1]  3  4  5  6  7  8  9 10 11 13 14 15\n"
     ]
    }
   ],
   "source": [
    "# Identify the input variables by index.\n",
    "\n",
    "inputi <- sapply(inputs, \n",
    "                 function(x) which(x == names(ds)), \n",
    "                 USE.NAMES=FALSE) %T>% print()"
   ]
  },
  {
   "cell_type": "markdown",
   "metadata": {
    "anaconda-cloud": {},
    "kernelspec": {
     "display_name": "R",
     "language": "R",
     "name": "ir"
    },
    "language_info": {
     "codemirror_mode": "r",
     "file_extension": ".r",
     "mimetype": "text/x-r-source",
     "name": "R",
     "pygments_lexer": "r",
     "version": "3.2.2"
    }
   },
   "source": [
    "For convenience we record the number of observations."
   ]
  },
  {
   "cell_type": "code",
   "execution_count": 67,
   "metadata": {
    "attributes": {
     "classes": [],
     "error": "FALSE",
     "id": "",
     "message": "FALSE,",
     "warning": "FALSE,"
    },
    "collapsed": false
   },
   "outputs": [
    {
     "name": "stdout",
     "output_type": "stream",
     "text": [
      "19,100 \n"
     ]
    }
   ],
   "source": [
    "nobs <- nrow(ds) %T>% echo()"
   ]
  },
  {
   "cell_type": "markdown",
   "metadata": {
    "anaconda-cloud": {},
    "kernelspec": {
     "display_name": "R",
     "language": "R",
     "name": "ir"
    },
    "language_info": {
     "codemirror_mode": "r",
     "file_extension": ".r",
     "mimetype": "text/x-r-source",
     "name": "R",
     "pygments_lexer": "r",
     "version": "3.2.2"
    }
   },
   "source": [
    "Here we simply report on the dimensions of various data subsets."
   ]
  },
  {
   "cell_type": "code",
   "execution_count": 68,
   "metadata": {
    "attributes": {
     "classes": [],
     "error": "FALSE",
     "id": "",
     "message": "FALSE,",
     "warning": "FALSE,"
    },
    "collapsed": false
   },
   "outputs": [
    {
     "name": "stdout",
     "output_type": "stream",
     "text": [
      "19,100     15 \n",
      "19,100     13 \n",
      "19,100     12 \n",
      "19,100     12 \n"
     ]
    }
   ],
   "source": [
    "# Confirm various subset sizes.\n",
    "\n",
    "dim(ds) %>% echo()\n",
    "dim(ds[vars]) %>% echo()\n",
    "dim(ds[inputs]) %>% echo()\n",
    "dim(ds[inputi]) %>% echo()"
   ]
  },
  {
   "cell_type": "markdown",
   "metadata": {
    "anaconda-cloud": {},
    "kernelspec": {
     "display_name": "R",
     "language": "R",
     "name": "ir"
    },
    "language_info": {
     "codemirror_mode": "r",
     "file_extension": ".r",
     "mimetype": "text/x-r-source",
     "name": "R",
     "pygments_lexer": "r",
     "version": "3.2.2"
    }
   },
   "source": [
    "# Step 4.2: Prepare - Numeric and Categoric Variables\n",
    "\n",
    "Sometimes we need to identify the numeric and categoric variables. Many cluster analysis algorithms only deal with numeric variables, for example. Here we identify them both by name and by index. Note that when using the index we have to assume the variables always remain in the same order within the dataset and all variables are present. Otherwise the indicies will get out of sync."
   ]
  },
  {
   "cell_type": "code",
   "execution_count": 69,
   "metadata": {
    "attributes": {
     "classes": [],
     "error": "FALSE",
     "id": "",
     "message": "FALSE,",
     "warning": "FALSE,"
    },
    "collapsed": false
   },
   "outputs": [
    {
     "name": "stdout",
     "output_type": "stream",
     "text": [
      "[1]  5  6  7  8  9 13 14 15\n"
     ]
    }
   ],
   "source": [
    "# Identify the numeric variables by index.\n",
    "\n",
    "ds %>%\n",
    "  sapply(is.numeric) %>%\n",
    "  which() %>%\n",
    "  intersect(inputi) %T>%\n",
    "  print() ->\n",
    "numi"
   ]
  },
  {
   "cell_type": "code",
   "execution_count": 70,
   "metadata": {
    "attributes": {
     "classes": [],
     "error": "FALSE",
     "id": "",
     "message": "FALSE,",
     "warning": "FALSE,"
    },
    "collapsed": false
   },
   "outputs": [
    {
     "name": "stdout",
     "output_type": "stream",
     "text": [
      "[1] \"mathematics_marks\"  \"english_marks\"      \"science_marks\"     \n",
      "[4] \"science_teacher\"    \"languages_teacher\"  \"total_students\"    \n",
      "[7] \"total_toilets\"      \"establishment_year\"\n"
     ]
    }
   ],
   "source": [
    "# Identify the numeric variables by name.\n",
    "\n",
    "numc <- \n",
    "  ds %>% \n",
    "  names() %>% \n",
    "  '['(numi) %T>% \n",
    "  print()"
   ]
  },
  {
   "cell_type": "code",
   "execution_count": 71,
   "metadata": {
    "attributes": {
     "classes": [],
     "error": "FALSE",
     "id": "",
     "message": "FALSE,",
     "warning": "FALSE,"
    },
    "collapsed": false
   },
   "outputs": [
    {
     "name": "stdout",
     "output_type": "stream",
     "text": [
      "[1]  3  4 10 11\n"
     ]
    }
   ],
   "source": [
    "# Identify the categoric variables by index.\n",
    "\n",
    "ds %>%\n",
    "  sapply(is.factor) %>%\n",
    "  which() %>%\n",
    "  intersect(inputi) %T>%\n",
    "  print() ->\n",
    "cati"
   ]
  },
  {
   "cell_type": "code",
   "execution_count": 72,
   "metadata": {
    "attributes": {
     "classes": [],
     "error": "FALSE",
     "id": "",
     "message": "FALSE,",
     "warning": "FALSE,"
    },
    "collapsed": false
   },
   "outputs": [
    {
     "name": "stdout",
     "output_type": "stream",
     "text": [
      "[1] \"gender\"   \"caste\"    \"guardian\" \"internet\"\n"
     ]
    }
   ],
   "source": [
    "# Identify the categoric variables by name.\n",
    "\n",
    "ds %>% \n",
    "  names() %>% \n",
    "  '['(cati) %T>% \n",
    "  print() ->\n",
    "catc"
   ]
  },
  {
   "cell_type": "markdown",
   "metadata": {
    "anaconda-cloud": {},
    "kernelspec": {
     "display_name": "R",
     "language": "R",
     "name": "ir"
    },
    "language_info": {
     "codemirror_mode": "r",
     "file_extension": ".r",
     "mimetype": "text/x-r-source",
     "name": "R",
     "pygments_lexer": "r",
     "version": "3.2.2"
    }
   },
   "source": [
    "# Step 4.3: Prepare - Save Dataset\n",
    "\n",
    "For large datasets we may want to save it to a bianry .RData file once we have it in the right shape."
   ]
  },
  {
   "cell_type": "code",
   "execution_count": 73,
   "metadata": {
    "attributes": {
     "classes": [],
     "error": "FALSE",
     "id": "",
     "message": "FALSE,",
     "warning": "FALSE,"
    },
    "collapsed": false
   },
   "outputs": [
    {
     "name": "stdout",
     "output_type": "stream",
     "text": [
      "[1] \"data/studentDropIndia_20161215.RData\"\n"
     ]
    }
   ],
   "source": [
    "########################################################################\n",
    "# SAVE THE DATASET\n",
    "\n",
    "# We will use a fixed timestamp to identify our file for convenience.\n",
    "\n",
    "dsdate <- \"_20161215\"\n",
    "\n",
    "# Filename for the saved dataset.\n",
    "\n",
    "dsrdata <- \n",
    "  file.path(fpath, dsname %s+% dsdate %s+% \".RData\") %T>% \n",
    "  print()\n",
    "\n",
    "# Save relevant R objects to the binary RData file.\n",
    "\n",
    "save(ds, dsname, dspath, dsdate, nobs,\n",
    "     vars, target, id, ignore, omit, \n",
    "     inputi, inputs, numi, numc, cati, catc, \n",
    "     file=dsrdata)"
   ]
  },
  {
   "cell_type": "code",
   "execution_count": null,
   "metadata": {
    "collapsed": true
   },
   "outputs": [],
   "source": []
  },
  {
   "cell_type": "code",
   "execution_count": null,
   "metadata": {
    "collapsed": true
   },
   "outputs": [],
   "source": []
  },
  {
   "cell_type": "code",
   "execution_count": null,
   "metadata": {
    "collapsed": true
   },
   "outputs": [],
   "source": []
  }
 ],
 "metadata": {
  "anaconda-cloud": {},
  "kernelspec": {
   "display_name": "R",
   "language": "R",
   "name": "ir"
  },
  "language_info": {
   "codemirror_mode": "r",
   "file_extension": ".r",
   "mimetype": "text/x-r-source",
   "name": "R",
   "pygments_lexer": "r",
   "version": "3.2.5"
  }
 },
 "nbformat": 4,
 "nbformat_minor": 1
}
